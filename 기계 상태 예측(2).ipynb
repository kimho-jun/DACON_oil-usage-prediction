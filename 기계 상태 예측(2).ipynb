{
 "cells": [
  {
   "cell_type": "code",
   "execution_count": 1,
   "id": "2b516f2c",
   "metadata": {},
   "outputs": [],
   "source": [
    "import pandas as pd\n",
    "import numpy as np\n",
    "from scipy import sparse\n",
    "\n",
    "import warnings\n",
    "warnings.filterwarnings('ignore')\n",
    "\n",
    "import seaborn as sns\n",
    "import matplotlib.pyplot as plt\n",
    "\n",
    "from sklearn.impute import KNNImputer\n",
    "import torch"
   ]
  },
  {
   "cell_type": "code",
   "execution_count": 2,
   "id": "968d7e28",
   "metadata": {},
   "outputs": [],
   "source": [
    "train=pd.read_csv(r\"C:\\Users\\yjhut\\Downloads\\open (2)\\train.csv\")\n",
    "test=pd.read_csv(r\"C:\\Users\\yjhut\\Downloads\\open (2)\\test.csv\")\n",
    "sub=pd.read_csv(r\"C:\\Users\\yjhut\\Downloads\\open (2)\\sample_submission.csv\")"
   ]
  },
  {
   "cell_type": "code",
   "execution_count": null,
   "id": "93414539",
   "metadata": {},
   "outputs": [],
   "source": [
    "# y=train['Y_LABEL']\n",
    "# train=train.drop(['ID','Y_LABEL'],axis=1)\n",
    "# test=test.drop('ID',axis=1)"
   ]
  },
  {
   "cell_type": "code",
   "execution_count": 3,
   "id": "dccc718d",
   "metadata": {},
   "outputs": [],
   "source": [
    "all_data=pd.concat([train,test])\n",
    "all_data=all_data.drop(['ID','Y_LABEL'],axis=1)\n",
    "y=train['Y_LABEL']"
   ]
  },
  {
   "cell_type": "code",
   "execution_count": 4,
   "id": "0fa8c6b1",
   "metadata": {},
   "outputs": [],
   "source": [
    "cat_feat=['COMPONENT_ARBITRARY','YEAR']"
   ]
  },
  {
   "cell_type": "code",
   "execution_count": 5,
   "id": "10093638",
   "metadata": {},
   "outputs": [],
   "source": [
    "k_impute=KNNImputer(n_neighbors=4)\n",
    "\n",
    "for col in all_data.columns:\n",
    "    if col not in cat_feat:\n",
    "        all_data[[col]]=k_impute.fit_transform(all_data[[col]])"
   ]
  },
  {
   "cell_type": "code",
   "execution_count": null,
   "id": "76e7c443",
   "metadata": {},
   "outputs": [],
   "source": [
    "# for col in test.columns:\n",
    "#     if col not in cat_feat:\n",
    "#         test[[col]]=k_impute.fit_transform(test[[col]])"
   ]
  },
  {
   "cell_type": "code",
   "execution_count": 6,
   "id": "1a369d93",
   "metadata": {
    "scrolled": false
   },
   "outputs": [
    {
     "data": {
      "text/html": [
       "<div>\n",
       "<style scoped>\n",
       "    .dataframe tbody tr th:only-of-type {\n",
       "        vertical-align: middle;\n",
       "    }\n",
       "\n",
       "    .dataframe tbody tr th {\n",
       "        vertical-align: top;\n",
       "    }\n",
       "\n",
       "    .dataframe thead th {\n",
       "        text-align: right;\n",
       "    }\n",
       "</style>\n",
       "<table border=\"1\" class=\"dataframe\">\n",
       "  <thead>\n",
       "    <tr style=\"text-align: right;\">\n",
       "      <th></th>\n",
       "      <th>COMPONENT_ARBITRARY</th>\n",
       "      <th>ANONYMOUS_1</th>\n",
       "      <th>YEAR</th>\n",
       "      <th>SAMPLE_TRANSFER_DAY</th>\n",
       "      <th>ANONYMOUS_2</th>\n",
       "      <th>AG</th>\n",
       "      <th>AL</th>\n",
       "      <th>B</th>\n",
       "      <th>BA</th>\n",
       "      <th>BE</th>\n",
       "      <th>...</th>\n",
       "      <th>U50</th>\n",
       "      <th>U25</th>\n",
       "      <th>U20</th>\n",
       "      <th>U14</th>\n",
       "      <th>U6</th>\n",
       "      <th>U4</th>\n",
       "      <th>V</th>\n",
       "      <th>V100</th>\n",
       "      <th>V40</th>\n",
       "      <th>ZN</th>\n",
       "    </tr>\n",
       "  </thead>\n",
       "  <tbody>\n",
       "    <tr>\n",
       "      <th>0</th>\n",
       "      <td>COMPONENT3</td>\n",
       "      <td>1486.0</td>\n",
       "      <td>2011</td>\n",
       "      <td>7.000000</td>\n",
       "      <td>200.0</td>\n",
       "      <td>0.0</td>\n",
       "      <td>3.000000</td>\n",
       "      <td>93.000000</td>\n",
       "      <td>0.000000</td>\n",
       "      <td>0.000000</td>\n",
       "      <td>...</td>\n",
       "      <td>6.185233</td>\n",
       "      <td>29.870898</td>\n",
       "      <td>56.063472</td>\n",
       "      <td>239.938149</td>\n",
       "      <td>5488.693107</td>\n",
       "      <td>19415.597262</td>\n",
       "      <td>0.0</td>\n",
       "      <td>13.57623</td>\n",
       "      <td>154.0</td>\n",
       "      <td>75.0</td>\n",
       "    </tr>\n",
       "    <tr>\n",
       "      <th>1</th>\n",
       "      <td>COMPONENT2</td>\n",
       "      <td>1350.0</td>\n",
       "      <td>2021</td>\n",
       "      <td>51.000000</td>\n",
       "      <td>375.0</td>\n",
       "      <td>0.0</td>\n",
       "      <td>2.000000</td>\n",
       "      <td>19.000000</td>\n",
       "      <td>0.000000</td>\n",
       "      <td>0.000000</td>\n",
       "      <td>...</td>\n",
       "      <td>1.000000</td>\n",
       "      <td>2.000000</td>\n",
       "      <td>4.000000</td>\n",
       "      <td>6.000000</td>\n",
       "      <td>216.000000</td>\n",
       "      <td>1454.000000</td>\n",
       "      <td>0.0</td>\n",
       "      <td>13.57623</td>\n",
       "      <td>44.0</td>\n",
       "      <td>652.0</td>\n",
       "    </tr>\n",
       "    <tr>\n",
       "      <th>2</th>\n",
       "      <td>COMPONENT2</td>\n",
       "      <td>2415.0</td>\n",
       "      <td>2015</td>\n",
       "      <td>2.000000</td>\n",
       "      <td>200.0</td>\n",
       "      <td>0.0</td>\n",
       "      <td>110.000000</td>\n",
       "      <td>1.000000</td>\n",
       "      <td>1.000000</td>\n",
       "      <td>0.000000</td>\n",
       "      <td>...</td>\n",
       "      <td>0.000000</td>\n",
       "      <td>0.000000</td>\n",
       "      <td>3.000000</td>\n",
       "      <td>39.000000</td>\n",
       "      <td>11261.000000</td>\n",
       "      <td>41081.000000</td>\n",
       "      <td>0.0</td>\n",
       "      <td>13.57623</td>\n",
       "      <td>72.6</td>\n",
       "      <td>412.0</td>\n",
       "    </tr>\n",
       "    <tr>\n",
       "      <th>3</th>\n",
       "      <td>COMPONENT3</td>\n",
       "      <td>7389.0</td>\n",
       "      <td>2010</td>\n",
       "      <td>2.000000</td>\n",
       "      <td>200.0</td>\n",
       "      <td>0.0</td>\n",
       "      <td>8.000000</td>\n",
       "      <td>3.000000</td>\n",
       "      <td>0.000000</td>\n",
       "      <td>0.000000</td>\n",
       "      <td>...</td>\n",
       "      <td>6.185233</td>\n",
       "      <td>29.870898</td>\n",
       "      <td>56.063472</td>\n",
       "      <td>239.938149</td>\n",
       "      <td>5488.693107</td>\n",
       "      <td>19415.597262</td>\n",
       "      <td>0.0</td>\n",
       "      <td>13.57623</td>\n",
       "      <td>133.3</td>\n",
       "      <td>7.0</td>\n",
       "    </tr>\n",
       "    <tr>\n",
       "      <th>4</th>\n",
       "      <td>COMPONENT3</td>\n",
       "      <td>3954.0</td>\n",
       "      <td>2015</td>\n",
       "      <td>4.000000</td>\n",
       "      <td>200.0</td>\n",
       "      <td>0.0</td>\n",
       "      <td>1.000000</td>\n",
       "      <td>157.000000</td>\n",
       "      <td>0.000000</td>\n",
       "      <td>0.000000</td>\n",
       "      <td>...</td>\n",
       "      <td>6.185233</td>\n",
       "      <td>29.870898</td>\n",
       "      <td>56.063472</td>\n",
       "      <td>239.938149</td>\n",
       "      <td>5488.693107</td>\n",
       "      <td>19415.597262</td>\n",
       "      <td>0.0</td>\n",
       "      <td>13.57623</td>\n",
       "      <td>133.1</td>\n",
       "      <td>128.0</td>\n",
       "    </tr>\n",
       "    <tr>\n",
       "      <th>...</th>\n",
       "      <td>...</td>\n",
       "      <td>...</td>\n",
       "      <td>...</td>\n",
       "      <td>...</td>\n",
       "      <td>...</td>\n",
       "      <td>...</td>\n",
       "      <td>...</td>\n",
       "      <td>...</td>\n",
       "      <td>...</td>\n",
       "      <td>...</td>\n",
       "      <td>...</td>\n",
       "      <td>...</td>\n",
       "      <td>...</td>\n",
       "      <td>...</td>\n",
       "      <td>...</td>\n",
       "      <td>...</td>\n",
       "      <td>...</td>\n",
       "      <td>...</td>\n",
       "      <td>...</td>\n",
       "      <td>...</td>\n",
       "      <td>...</td>\n",
       "    </tr>\n",
       "    <tr>\n",
       "      <th>6036</th>\n",
       "      <td>COMPONENT3</td>\n",
       "      <td>1714.0</td>\n",
       "      <td>2014</td>\n",
       "      <td>7.600568</td>\n",
       "      <td>200.0</td>\n",
       "      <td>0.0</td>\n",
       "      <td>12.707698</td>\n",
       "      <td>64.026179</td>\n",
       "      <td>0.692799</td>\n",
       "      <td>0.006314</td>\n",
       "      <td>...</td>\n",
       "      <td>6.185233</td>\n",
       "      <td>29.870898</td>\n",
       "      <td>56.063472</td>\n",
       "      <td>239.938149</td>\n",
       "      <td>5488.693107</td>\n",
       "      <td>19415.597262</td>\n",
       "      <td>0.0</td>\n",
       "      <td>13.57623</td>\n",
       "      <td>71.2</td>\n",
       "      <td>1163.0</td>\n",
       "    </tr>\n",
       "    <tr>\n",
       "      <th>6037</th>\n",
       "      <td>COMPONENT3</td>\n",
       "      <td>4131.0</td>\n",
       "      <td>2016</td>\n",
       "      <td>7.600568</td>\n",
       "      <td>200.0</td>\n",
       "      <td>0.0</td>\n",
       "      <td>12.707698</td>\n",
       "      <td>64.026179</td>\n",
       "      <td>0.692799</td>\n",
       "      <td>0.006314</td>\n",
       "      <td>...</td>\n",
       "      <td>6.185233</td>\n",
       "      <td>29.870898</td>\n",
       "      <td>56.063472</td>\n",
       "      <td>239.938149</td>\n",
       "      <td>5488.693107</td>\n",
       "      <td>19415.597262</td>\n",
       "      <td>0.0</td>\n",
       "      <td>13.57623</td>\n",
       "      <td>137.8</td>\n",
       "      <td>13.0</td>\n",
       "    </tr>\n",
       "    <tr>\n",
       "      <th>6038</th>\n",
       "      <td>COMPONENT3</td>\n",
       "      <td>4325.0</td>\n",
       "      <td>2014</td>\n",
       "      <td>7.600568</td>\n",
       "      <td>200.0</td>\n",
       "      <td>0.0</td>\n",
       "      <td>12.707698</td>\n",
       "      <td>64.026179</td>\n",
       "      <td>0.692799</td>\n",
       "      <td>0.006314</td>\n",
       "      <td>...</td>\n",
       "      <td>6.185233</td>\n",
       "      <td>29.870898</td>\n",
       "      <td>56.063472</td>\n",
       "      <td>239.938149</td>\n",
       "      <td>5488.693107</td>\n",
       "      <td>19415.597262</td>\n",
       "      <td>0.0</td>\n",
       "      <td>13.57623</td>\n",
       "      <td>302.2</td>\n",
       "      <td>13.0</td>\n",
       "    </tr>\n",
       "    <tr>\n",
       "      <th>6039</th>\n",
       "      <td>COMPONENT2</td>\n",
       "      <td>1364.0</td>\n",
       "      <td>2013</td>\n",
       "      <td>7.600568</td>\n",
       "      <td>200.0</td>\n",
       "      <td>0.0</td>\n",
       "      <td>12.707698</td>\n",
       "      <td>64.026179</td>\n",
       "      <td>0.692799</td>\n",
       "      <td>0.006314</td>\n",
       "      <td>...</td>\n",
       "      <td>6.185233</td>\n",
       "      <td>29.870898</td>\n",
       "      <td>56.063472</td>\n",
       "      <td>239.938149</td>\n",
       "      <td>5488.693107</td>\n",
       "      <td>19415.597262</td>\n",
       "      <td>0.0</td>\n",
       "      <td>13.57623</td>\n",
       "      <td>51.1</td>\n",
       "      <td>478.0</td>\n",
       "    </tr>\n",
       "    <tr>\n",
       "      <th>6040</th>\n",
       "      <td>COMPONENT1</td>\n",
       "      <td>2397.0</td>\n",
       "      <td>2016</td>\n",
       "      <td>7.600568</td>\n",
       "      <td>1597.0</td>\n",
       "      <td>1.0</td>\n",
       "      <td>12.707698</td>\n",
       "      <td>64.026179</td>\n",
       "      <td>0.692799</td>\n",
       "      <td>0.006314</td>\n",
       "      <td>...</td>\n",
       "      <td>6.185233</td>\n",
       "      <td>29.870898</td>\n",
       "      <td>56.063472</td>\n",
       "      <td>239.938149</td>\n",
       "      <td>5488.693107</td>\n",
       "      <td>19415.597262</td>\n",
       "      <td>0.0</td>\n",
       "      <td>13.57623</td>\n",
       "      <td>80.0</td>\n",
       "      <td>970.0</td>\n",
       "    </tr>\n",
       "  </tbody>\n",
       "</table>\n",
       "<p>20136 rows × 52 columns</p>\n",
       "</div>"
      ],
      "text/plain": [
       "     COMPONENT_ARBITRARY  ANONYMOUS_1  YEAR  SAMPLE_TRANSFER_DAY  ANONYMOUS_2  \\\n",
       "0             COMPONENT3       1486.0  2011             7.000000        200.0   \n",
       "1             COMPONENT2       1350.0  2021            51.000000        375.0   \n",
       "2             COMPONENT2       2415.0  2015             2.000000        200.0   \n",
       "3             COMPONENT3       7389.0  2010             2.000000        200.0   \n",
       "4             COMPONENT3       3954.0  2015             4.000000        200.0   \n",
       "...                  ...          ...   ...                  ...          ...   \n",
       "6036          COMPONENT3       1714.0  2014             7.600568        200.0   \n",
       "6037          COMPONENT3       4131.0  2016             7.600568        200.0   \n",
       "6038          COMPONENT3       4325.0  2014             7.600568        200.0   \n",
       "6039          COMPONENT2       1364.0  2013             7.600568        200.0   \n",
       "6040          COMPONENT1       2397.0  2016             7.600568       1597.0   \n",
       "\n",
       "       AG          AL           B        BA        BE  ...       U50  \\\n",
       "0     0.0    3.000000   93.000000  0.000000  0.000000  ...  6.185233   \n",
       "1     0.0    2.000000   19.000000  0.000000  0.000000  ...  1.000000   \n",
       "2     0.0  110.000000    1.000000  1.000000  0.000000  ...  0.000000   \n",
       "3     0.0    8.000000    3.000000  0.000000  0.000000  ...  6.185233   \n",
       "4     0.0    1.000000  157.000000  0.000000  0.000000  ...  6.185233   \n",
       "...   ...         ...         ...       ...       ...  ...       ...   \n",
       "6036  0.0   12.707698   64.026179  0.692799  0.006314  ...  6.185233   \n",
       "6037  0.0   12.707698   64.026179  0.692799  0.006314  ...  6.185233   \n",
       "6038  0.0   12.707698   64.026179  0.692799  0.006314  ...  6.185233   \n",
       "6039  0.0   12.707698   64.026179  0.692799  0.006314  ...  6.185233   \n",
       "6040  1.0   12.707698   64.026179  0.692799  0.006314  ...  6.185233   \n",
       "\n",
       "            U25        U20         U14            U6            U4    V  \\\n",
       "0     29.870898  56.063472  239.938149   5488.693107  19415.597262  0.0   \n",
       "1      2.000000   4.000000    6.000000    216.000000   1454.000000  0.0   \n",
       "2      0.000000   3.000000   39.000000  11261.000000  41081.000000  0.0   \n",
       "3     29.870898  56.063472  239.938149   5488.693107  19415.597262  0.0   \n",
       "4     29.870898  56.063472  239.938149   5488.693107  19415.597262  0.0   \n",
       "...         ...        ...         ...           ...           ...  ...   \n",
       "6036  29.870898  56.063472  239.938149   5488.693107  19415.597262  0.0   \n",
       "6037  29.870898  56.063472  239.938149   5488.693107  19415.597262  0.0   \n",
       "6038  29.870898  56.063472  239.938149   5488.693107  19415.597262  0.0   \n",
       "6039  29.870898  56.063472  239.938149   5488.693107  19415.597262  0.0   \n",
       "6040  29.870898  56.063472  239.938149   5488.693107  19415.597262  0.0   \n",
       "\n",
       "          V100    V40      ZN  \n",
       "0     13.57623  154.0    75.0  \n",
       "1     13.57623   44.0   652.0  \n",
       "2     13.57623   72.6   412.0  \n",
       "3     13.57623  133.3     7.0  \n",
       "4     13.57623  133.1   128.0  \n",
       "...        ...    ...     ...  \n",
       "6036  13.57623   71.2  1163.0  \n",
       "6037  13.57623  137.8    13.0  \n",
       "6038  13.57623  302.2    13.0  \n",
       "6039  13.57623   51.1   478.0  \n",
       "6040  13.57623   80.0   970.0  \n",
       "\n",
       "[20136 rows x 52 columns]"
      ]
     },
     "execution_count": 6,
     "metadata": {},
     "output_type": "execute_result"
    }
   ],
   "source": [
    "all_data"
   ]
  },
  {
   "cell_type": "code",
   "execution_count": 7,
   "id": "5da6f71c",
   "metadata": {},
   "outputs": [],
   "source": [
    "from sklearn.preprocessing import LabelEncoder\n",
    "\n",
    "le=LabelEncoder()\n",
    "\n",
    "for col in cat_feat:\n",
    "    all_data[col]=le.fit_transform(all_data[col])"
   ]
  },
  {
   "cell_type": "code",
   "execution_count": 8,
   "id": "ae1be848",
   "metadata": {},
   "outputs": [],
   "source": [
    "test_features = ['COMPONENT_ARBITRARY', 'ANONYMOUS_1', 'YEAR' , 'ANONYMOUS_2', \n",
    "                       'AG', 'CO', 'CR', 'CU', 'FE', 'H2O', 'MN', 'MO', 'NI', 'PQINDEX',\n",
    "                       'TI', 'V', 'V40', 'ZN']"
   ]
  },
  {
   "cell_type": "code",
   "execution_count": 9,
   "id": "1b76d156",
   "metadata": {},
   "outputs": [],
   "source": [
    "# train=train[test_features]\n",
    "# test=test[test_features]\n",
    "\n",
    "all_data=all_data[test_features]"
   ]
  },
  {
   "cell_type": "code",
   "execution_count": 10,
   "id": "effd0b7c",
   "metadata": {},
   "outputs": [],
   "source": [
    "from sklearn.preprocessing import RobustScaler\n",
    "\n",
    "r_scaler= RobustScaler()\n",
    "\n",
    "for col in all_data.columns:\n",
    "    if col not in cat_feat:\n",
    "        all_data[[col]]=r_scaler.fit_transform(all_data[[col]])"
   ]
  },
  {
   "cell_type": "code",
   "execution_count": null,
   "id": "a2f2c512",
   "metadata": {},
   "outputs": [],
   "source": [
    "all_data"
   ]
  },
  {
   "cell_type": "code",
   "execution_count": null,
   "id": "d8129388",
   "metadata": {
    "scrolled": false
   },
   "outputs": [],
   "source": [
    "# for col in train.columns:\n",
    "#     print(f'{col}의 왜도: {train[col].skew()}')"
   ]
  },
  {
   "cell_type": "code",
   "execution_count": null,
   "id": "d8046861",
   "metadata": {},
   "outputs": [],
   "source": [
    "# for col in test.columns:\n",
    "#     print(f'{col}의 왜도: {test[col].skew()}')"
   ]
  },
  {
   "cell_type": "code",
   "execution_count": 11,
   "id": "2184904f",
   "metadata": {},
   "outputs": [
    {
     "name": "stdout",
     "output_type": "stream",
     "text": [
      "COMPONENT_ARBITRARY의 왜도: -0.30998471949369155\n",
      "ANONYMOUS_1의 왜도: 29.956777143484114\n",
      "YEAR의 왜도: 0.22174551234215195\n",
      "ANONYMOUS_2의 왜도: 8.46676177843065\n",
      "AG의 왜도: 7.340797156275295\n",
      "CO의 왜도: 44.66699636444539\n",
      "CR의 왜도: 55.18362040246365\n",
      "CU의 왜도: 18.170107280109907\n",
      "FE의 왜도: 20.51764612329974\n",
      "H2O의 왜도: 53.13030735374169\n",
      "MN의 왜도: 32.30099118898889\n",
      "MO의 왜도: 2.938137314112181\n",
      "NI의 왜도: 20.215305562784163\n",
      "PQINDEX의 왜도: 9.688814098372445\n",
      "TI의 왜도: 31.236385824305373\n",
      "V의 왜도: 20.878309647396208\n",
      "V40의 왜도: 10.118903144733693\n",
      "ZN의 왜도: 0.23620075786601383\n"
     ]
    }
   ],
   "source": [
    "for col in all_data.columns:\n",
    "    print(f'{col}의 왜도: {all_data[col].skew()}')"
   ]
  },
  {
   "cell_type": "code",
   "execution_count": null,
   "id": "ce944a91",
   "metadata": {},
   "outputs": [],
   "source": [
    "for col in  train.columns:\n",
    "    print(f'{col}의 최소값: {train[col].min()}')"
   ]
  },
  {
   "cell_type": "code",
   "execution_count": null,
   "id": "6ae70c74",
   "metadata": {
    "scrolled": true
   },
   "outputs": [],
   "source": [
    "for col in  test.columns:\n",
    "    print(f'{col}의 최소값: {test[col].min()}')"
   ]
  },
  {
   "cell_type": "code",
   "execution_count": null,
   "id": "69d9ddee",
   "metadata": {},
   "outputs": [],
   "source": [
    "for col in train.columns:\n",
    "    if (col not in cat_feat) & (train[col].min() == 0.0):    \n",
    "        train[col]+=0.01"
   ]
  },
  {
   "cell_type": "code",
   "execution_count": null,
   "id": "2fc0ff22",
   "metadata": {},
   "outputs": [],
   "source": [
    "for col in test.columns:\n",
    "    if (col not in cat_feat) & (test[col].min() == 0.0):    \n",
    "        test[col]+=0.01"
   ]
  },
  {
   "cell_type": "code",
   "execution_count": null,
   "id": "9c78991e",
   "metadata": {},
   "outputs": [],
   "source": []
  },
  {
   "cell_type": "code",
   "execution_count": 12,
   "id": "e4ebf42b",
   "metadata": {},
   "outputs": [],
   "source": [
    "import numpy as np\n",
    "\n",
    "for col in all_data.columns:\n",
    "    if (all_data[col].skew() > 1) & (col not in cat_feat):\n",
    "        all_data[col]=np.log1p(all_data[col])"
   ]
  },
  {
   "cell_type": "code",
   "execution_count": null,
   "id": "bf876c4a",
   "metadata": {},
   "outputs": [],
   "source": [
    "# 로그변환 비선형 스케일\n",
    "import numpy as np\n",
    "\n",
    "for col in train.columns:\n",
    "    if (train[col].skew() > 1) & (col not in cat_feat):\n",
    "        train[col]=np.log1p(train[col])"
   ]
  },
  {
   "cell_type": "code",
   "execution_count": null,
   "id": "3a08528d",
   "metadata": {},
   "outputs": [],
   "source": [
    "\n",
    "for col in train.columns:\n",
    "    if (test[col].skew() > 1) & (col not in cat_feat):\n",
    "        test[col]=np.log1p(test[col])"
   ]
  },
  {
   "cell_type": "code",
   "execution_count": null,
   "id": "93b7965e",
   "metadata": {},
   "outputs": [],
   "source": [
    "for col in train.columns:\n",
    "    print(f'{col}의 왜도: {train[col].skew()}')"
   ]
  },
  {
   "cell_type": "code",
   "execution_count": 14,
   "id": "38d0802d",
   "metadata": {},
   "outputs": [
    {
     "name": "stdout",
     "output_type": "stream",
     "text": [
      "COMPONENT_ARBITRARY의 왜도: -0.3100\n",
      "ANONYMOUS_1의 왜도: 0.8805\n",
      "YEAR의 왜도: 0.2217\n",
      "ANONYMOUS_2의 왜도: 1.8132\n",
      "AG의 왜도: 6.6261\n",
      "CO의 왜도: 8.6833\n",
      "CR의 왜도: 1.9511\n",
      "CU의 왜도: 1.8318\n",
      "FE의 왜도: 1.7905\n",
      "H2O의 왜도: 17.4239\n",
      "MN의 왜도: 1.4047\n",
      "MO의 왜도: 1.7267\n",
      "NI의 왜도: 2.9387\n",
      "PQINDEX의 왜도: 2.1376\n",
      "TI의 왜도: 4.7660\n",
      "V의 왜도: 8.1146\n",
      "V40의 왜도: -14.7409\n",
      "ZN의 왜도: 0.2362\n"
     ]
    }
   ],
   "source": [
    "for col in all_data.columns:\n",
    "    print(f'{col}의 왜도: {all_data[col].skew():.4f}')"
   ]
  },
  {
   "cell_type": "code",
   "execution_count": null,
   "id": "ce80414e",
   "metadata": {},
   "outputs": [],
   "source": [
    "# V40, H2O, V, TI, AG, CO"
   ]
  },
  {
   "cell_type": "code",
   "execution_count": null,
   "id": "1ef0e5c7",
   "metadata": {},
   "outputs": [],
   "source": [
    "for col in train.columns:\n",
    "    if (col not in cat_feat) & (train[col].skew() > 2):\n",
    "        train[col]= np.log(train[col])"
   ]
  },
  {
   "cell_type": "code",
   "execution_count": null,
   "id": "eefc1d4f",
   "metadata": {},
   "outputs": [],
   "source": [
    "for col in test.columns:\n",
    "    if (col not in cat_feat) & (test[col].skew() > 2):\n",
    "        test[col]= np.log(test[col])"
   ]
  },
  {
   "cell_type": "code",
   "execution_count": null,
   "id": "7bbaaf31",
   "metadata": {},
   "outputs": [],
   "source": [
    "# 선형 스케일\n",
    "\n",
    "\n",
    "# from sklearn.preprocessing import RobustScaler\n",
    "# r_scaler=RobustScaler()\n",
    "\n",
    "# for col in all_data.columns:\n",
    "#     if (col not in cat_feat) & (all_data[col].skew() > 5):\n",
    "#          all_data[[col]]=r_scaler.fit_tratrannsform(all_data[[col]])"
   ]
  },
  {
   "cell_type": "code",
   "execution_count": null,
   "id": "156c76c1",
   "metadata": {},
   "outputs": [],
   "source": [
    "from sklearn.preprocessing import StandardScaler\n",
    "s_scaler=StandardScaler()\n",
    "\n",
    "train[['V', 'H2O','AG','CO','TI']]=s_scaler.fit_transform(train[['V', 'H2O','AG','CO','TI']])\n",
    "test[['V', 'H2O','AG','CO','TI']]=s_scaler.transform(test[['V', 'H2O','AG','CO','TI']])"
   ]
  },
  {
   "cell_type": "code",
   "execution_count": null,
   "id": "aa535de3",
   "metadata": {},
   "outputs": [],
   "source": [
    "\n",
    "# train[['COMPONENT_ARBITRARY']]=r_scaler.fit_transform(train[['COMPONENT_ARBITRARY']])\n",
    "# test[['COMPONENT_ARBITRARY']]=r_scaler.transform(test[['COMPONENT_ARBITRARY']])"
   ]
  },
  {
   "cell_type": "code",
   "execution_count": null,
   "id": "684a200a",
   "metadata": {
    "scrolled": true
   },
   "outputs": [],
   "source": [
    "from sklearn.model_selection import train_test_split\n",
    "\n",
    "# num_train=len(train)\n",
    "\n",
    "# train=all_data[:num_train]\n",
    "\n",
    "# test=all_data[num_train:]\n",
    "\n",
    "\n",
    "X_tr,X_val,y_tr,y_val= train_test_split(train,y,random_state=43, stratify=y,test_size=0.1)"
   ]
  },
  {
   "cell_type": "code",
   "execution_count": null,
   "id": "bf3c64e5",
   "metadata": {},
   "outputs": [],
   "source": [
    "X_tr.shape,X_val.shape,y_tr.shape,y_val.shape"
   ]
  },
  {
   "cell_type": "code",
   "execution_count": null,
   "id": "0781493e",
   "metadata": {},
   "outputs": [],
   "source": [
    "from sklearn.model_selection import RandomizedSearchCV\n",
    "import lightgbm as lgb\n",
    "import numpy as np\n",
    "from sklearn.metrics import f1_score\n",
    "\n",
    "\n",
    "params={'random_state':[43],\n",
    "        'num_iterations':range(3000,4500),\n",
    "        'learning_rate':np.arange(0,1,0.01),\n",
    "        'max_depth':[10,11,12,13,14,15],\n",
    "        'num_leaves':range(150,200,10),  # 2^(max_depth) > num_leaves  #개별 트리가 가질 수 있는 최대 리프 수\n",
    "        'bagging_fraction': np.arange(0,1,0.1),                                 # 자식 노드 만들기위한 최소한의 데이터 개수\n",
    "        'min_child_samples':range(100,150,10)} \n",
    "\n",
    "rl_model=RandomizedSearchCV(estimator=lgb.LGBMClassifier( boost_from_average=False,scale_pos_weight=0.1),\n",
    "                            param_distributions=params,\n",
    "                            cv=5)\n",
    "\n",
    "rl_model.fit(X_tr,y_tr)\n",
    "\n",
    "\n",
    "new_rl_model=rl_model.best_estimator_\n",
    "\n",
    "pred=new_rl_model.predict(X_val)\n",
    "\n",
    "print(f'best_estimator:{rl_model.best_estimator_}')\n",
    "print('\\n')\n",
    "print(f1_score(y_val,pred, average='macro'))"
   ]
  },
  {
   "cell_type": "code",
   "execution_count": null,
   "id": "452ba108",
   "metadata": {
    "scrolled": false
   },
   "outputs": [],
   "source": [
    "from lightgbm import plot_importance\n",
    "\n",
    "import matplotlib.pyplot as plt\n",
    "fif,ax=plt.subplots(figsize=(10,10))\n",
    "plot_importance(new_rl_model,ax=ax)"
   ]
  },
  {
   "cell_type": "code",
   "execution_count": null,
   "id": "4a088424",
   "metadata": {},
   "outputs": [],
   "source": [
    "pred=new_rl_model.predict(test)"
   ]
  },
  {
   "cell_type": "code",
   "execution_count": null,
   "id": "2442e149",
   "metadata": {},
   "outputs": [],
   "source": [
    "sub['Y_LABEL']=pred"
   ]
  },
  {
   "cell_type": "code",
   "execution_count": null,
   "id": "be57903b",
   "metadata": {},
   "outputs": [],
   "source": [
    "sub.to_csv('submission_sample(11233).csv',index=False)"
   ]
  },
  {
   "cell_type": "code",
   "execution_count": null,
   "id": "130a1e3a",
   "metadata": {},
   "outputs": [],
   "source": [
    "# l_model=LGBMClassifier(random_state=43, num_iterations=4000, learning_rate=0.04, num_leaves=60, max_depth=12)\n",
    "\n",
    "# l_model.fit(X_tr,y_tr)\n",
    "\n",
    "# l_pred=l_model.predict(y_val)\n",
    "\n",
    "# alt_score=f1_score(y_val,l_pred)\n",
    "\n",
    "# print(f'최종 macro f1_score:' {alt_score}:.4f)"
   ]
  },
  {
   "cell_type": "code",
   "execution_count": null,
   "id": "4e783b9b",
   "metadata": {},
   "outputs": [],
   "source": [
    "sub['Y_LABEL'].value_counts()"
   ]
  },
  {
   "cell_type": "code",
   "execution_count": null,
   "id": "cc7b1aea",
   "metadata": {},
   "outputs": [],
   "source": [
    "all_data.columns"
   ]
  },
  {
   "cell_type": "code",
   "execution_count": null,
   "id": "3162ad76",
   "metadata": {},
   "outputs": [],
   "source": [
    "# 내일 해볼 거\n",
    "# 아예 쏠린 데이터 어떻게 처리할 것인지??  (왜도가 심각하게 높은 상태)"
   ]
  }
 ],
 "metadata": {
  "kernelspec": {
   "display_name": "Python 3 (ipykernel)",
   "language": "python",
   "name": "python3"
  },
  "language_info": {
   "codemirror_mode": {
    "name": "ipython",
    "version": 3
   },
   "file_extension": ".py",
   "mimetype": "text/x-python",
   "name": "python",
   "nbconvert_exporter": "python",
   "pygments_lexer": "ipython3",
   "version": "3.9.12"
  }
 },
 "nbformat": 4,
 "nbformat_minor": 5
}
