{
 "cells": [
  {
   "cell_type": "code",
   "execution_count": 32,
   "id": "5129401a",
   "metadata": {},
   "outputs": [],
   "source": [
    "# np.newaxis  -> np 행렬의 차원을 확장하는 함수 \n",
    "#             -> broadcasting(차원이 다른 행렬간 계산)을 가능하게 해줌\n",
    "    \n",
    "# np.repaet   -> (value,num,axis)    value는 반복 생성할 값, num은 생성 횟수, axis는 생성된 값의 추가 방향(축) \n",
    "\n",
    "# np.squeeze  -> 크기가 1인 axis를 제거하는 함수  ex)  np.squeeze(a) or a.squeeze()"
   ]
  },
  {
   "cell_type": "code",
   "execution_count": 1,
   "id": "39810084",
   "metadata": {},
   "outputs": [],
   "source": [
    "import matplotlib.pyplot as plt\n",
    "import seaborn as sns\n",
    "\n",
    "from sklearn.model_selection import GridSearchCV\n",
    "\n",
    "import torch\n",
    "import torch.nn as nn\n",
    "from torch.utils.data import DataLoader,Dataset\n",
    "\n",
    "import numpy as np\n",
    "from tensorflow.keras.models import Sequential\n",
    "from tensorflow.keras.layers import LSTM, Dense\n",
    "from tensorflow.keras.optimizers import Adam\n",
    "\n",
    "from sklearn.preprocessing import StandardScaler\n",
    "from sklearn.preprocessing import MinMaxScaler\n",
    "\n",
    "from keras import models, layers\n",
    "\n",
    "from scipy import interpolate\n",
    "import pandas as pd\n",
    "import warnings\n",
    "warnings.filterwarnings('ignore')\n",
    "\n",
    "from sklearn.ensemble import RandomForestRegressor\n",
    "from sklearn.impute import KNNImputer"
   ]
  },
  {
   "cell_type": "code",
   "execution_count": 2,
   "id": "6ed503ea",
   "metadata": {},
   "outputs": [],
   "source": [
    "sample=pd.read_csv('sample_submission.csv')\n",
    "train_df=pd.read_csv('train.csv')\n",
    "test_df=pd.read_csv('test.csv')\n",
    "building_df=pd.read_csv('building_info.csv')"
   ]
  },
  {
   "cell_type": "code",
   "execution_count": 3,
   "id": "0f511cc5",
   "metadata": {},
   "outputs": [],
   "source": [
    "# 종속변수 분리\n",
    "\n",
    "# elec_power=train_df['전력소비량(kWh)']\n",
    "# train_df=train_df.drop(['전력소비량(kWh)'],axis=1)\n",
    "\n",
    "original_consumption=train_df['전력소비량(kWh)'].values"
   ]
  },
  {
   "cell_type": "code",
   "execution_count": 96,
   "id": "e643365c",
   "metadata": {},
   "outputs": [],
   "source": [
    "# train_df['date']=train_df['일시'].apply(lambda x:int(x[:8]))\n",
    "# train_df['time']=train_df['일시'].apply(lambda x:int(x[9:]))\n",
    "\n",
    "# test_df['date']=test_df['일시'].apply(lambda x:int(x[:8]))\n",
    "# test_df['time']=test_df['일시'].apply(lambda x:int(x[9:]))"
   ]
  },
  {
   "cell_type": "code",
   "execution_count": 9,
   "id": "0934a610",
   "metadata": {},
   "outputs": [],
   "source": [
    "train_df['강수량(mm)']=train_df['강수량(mm)'].fillna(0.0)"
   ]
  },
  {
   "cell_type": "code",
   "execution_count": 14,
   "id": "9f6a93dd",
   "metadata": {},
   "outputs": [],
   "source": [
    "# train_df['강수량(mm)'].fillna(0.0, inplace=True)\n",
    "train_df['풍속(m/s)']=train_df['풍속(m/s)'].fillna(train_df['풍속(m/s)'].mean())\n",
    "train_df['습도(%)']=train_df['습도(%)'].fillna(train_df['습도(%)'].mean())"
   ]
  },
  {
   "cell_type": "code",
   "execution_count": 23,
   "id": "f11f487a",
   "metadata": {},
   "outputs": [
    {
     "data": {
      "text/plain": [
       "num_date_time        0\n",
       "건물번호                 0\n",
       "일시                   0\n",
       "기온(C)                0\n",
       "강수량(mm)              0\n",
       "풍속(m/s)              0\n",
       "습도(%)                0\n",
       "일조(hr)           75182\n",
       "일사(MJ/m2)        87913\n",
       "전력소비량(kWh)           0\n",
       "dtype: int64"
      ]
     },
     "execution_count": 23,
     "metadata": {},
     "output_type": "execute_result"
    }
   ],
   "source": [
    "train_df.isnull().sum()"
   ]
  },
  {
   "cell_type": "code",
   "execution_count": 24,
   "id": "2bc8cc29",
   "metadata": {},
   "outputs": [
    {
     "data": {
      "text/html": [
       "<div>\n",
       "<style scoped>\n",
       "    .dataframe tbody tr th:only-of-type {\n",
       "        vertical-align: middle;\n",
       "    }\n",
       "\n",
       "    .dataframe tbody tr th {\n",
       "        vertical-align: top;\n",
       "    }\n",
       "\n",
       "    .dataframe thead th {\n",
       "        text-align: right;\n",
       "    }\n",
       "</style>\n",
       "<table border=\"1\" class=\"dataframe\">\n",
       "  <thead>\n",
       "    <tr style=\"text-align: right;\">\n",
       "      <th></th>\n",
       "      <th>건물번호</th>\n",
       "      <th>건물유형</th>\n",
       "      <th>연면적(m2)</th>\n",
       "      <th>냉방면적(m2)</th>\n",
       "      <th>태양광용량(kW)</th>\n",
       "      <th>ESS저장용량(kWh)</th>\n",
       "      <th>PCS용량(kW)</th>\n",
       "    </tr>\n",
       "  </thead>\n",
       "  <tbody>\n",
       "    <tr>\n",
       "      <th>0</th>\n",
       "      <td>1</td>\n",
       "      <td>건물기타</td>\n",
       "      <td>110634.00</td>\n",
       "      <td>39570.00</td>\n",
       "      <td>-</td>\n",
       "      <td>-</td>\n",
       "      <td>-</td>\n",
       "    </tr>\n",
       "    <tr>\n",
       "      <th>1</th>\n",
       "      <td>2</td>\n",
       "      <td>건물기타</td>\n",
       "      <td>122233.47</td>\n",
       "      <td>99000.00</td>\n",
       "      <td>-</td>\n",
       "      <td>-</td>\n",
       "      <td>-</td>\n",
       "    </tr>\n",
       "    <tr>\n",
       "      <th>2</th>\n",
       "      <td>3</td>\n",
       "      <td>건물기타</td>\n",
       "      <td>171243.00</td>\n",
       "      <td>113950.00</td>\n",
       "      <td>40</td>\n",
       "      <td>-</td>\n",
       "      <td>-</td>\n",
       "    </tr>\n",
       "    <tr>\n",
       "      <th>3</th>\n",
       "      <td>4</td>\n",
       "      <td>건물기타</td>\n",
       "      <td>74312.98</td>\n",
       "      <td>34419.62</td>\n",
       "      <td>60</td>\n",
       "      <td>-</td>\n",
       "      <td>-</td>\n",
       "    </tr>\n",
       "    <tr>\n",
       "      <th>4</th>\n",
       "      <td>5</td>\n",
       "      <td>건물기타</td>\n",
       "      <td>205884.00</td>\n",
       "      <td>150000.00</td>\n",
       "      <td>-</td>\n",
       "      <td>2557</td>\n",
       "      <td>1000</td>\n",
       "    </tr>\n",
       "    <tr>\n",
       "      <th>...</th>\n",
       "      <td>...</td>\n",
       "      <td>...</td>\n",
       "      <td>...</td>\n",
       "      <td>...</td>\n",
       "      <td>...</td>\n",
       "      <td>...</td>\n",
       "      <td>...</td>\n",
       "    </tr>\n",
       "    <tr>\n",
       "      <th>95</th>\n",
       "      <td>96</td>\n",
       "      <td>호텔및리조트</td>\n",
       "      <td>93314.00</td>\n",
       "      <td>60500.00</td>\n",
       "      <td>-</td>\n",
       "      <td>-</td>\n",
       "      <td>-</td>\n",
       "    </tr>\n",
       "    <tr>\n",
       "      <th>96</th>\n",
       "      <td>97</td>\n",
       "      <td>호텔및리조트</td>\n",
       "      <td>55144.67</td>\n",
       "      <td>25880.00</td>\n",
       "      <td>-</td>\n",
       "      <td>-</td>\n",
       "      <td>-</td>\n",
       "    </tr>\n",
       "    <tr>\n",
       "      <th>97</th>\n",
       "      <td>98</td>\n",
       "      <td>호텔및리조트</td>\n",
       "      <td>53578.62</td>\n",
       "      <td>17373.75</td>\n",
       "      <td>-</td>\n",
       "      <td>-</td>\n",
       "      <td>-</td>\n",
       "    </tr>\n",
       "    <tr>\n",
       "      <th>98</th>\n",
       "      <td>99</td>\n",
       "      <td>호텔및리조트</td>\n",
       "      <td>53499.00</td>\n",
       "      <td>40636.00</td>\n",
       "      <td>-</td>\n",
       "      <td>-</td>\n",
       "      <td>-</td>\n",
       "    </tr>\n",
       "    <tr>\n",
       "      <th>99</th>\n",
       "      <td>100</td>\n",
       "      <td>호텔및리조트</td>\n",
       "      <td>57497.84</td>\n",
       "      <td>40035.23</td>\n",
       "      <td>-</td>\n",
       "      <td>-</td>\n",
       "      <td>-</td>\n",
       "    </tr>\n",
       "  </tbody>\n",
       "</table>\n",
       "<p>100 rows × 7 columns</p>\n",
       "</div>"
      ],
      "text/plain": [
       "    건물번호    건물유형    연면적(m2)   냉방면적(m2) 태양광용량(kW) ESS저장용량(kWh) PCS용량(kW)\n",
       "0      1    건물기타  110634.00   39570.00         -            -         -\n",
       "1      2    건물기타  122233.47   99000.00         -            -         -\n",
       "2      3    건물기타  171243.00  113950.00        40            -         -\n",
       "3      4    건물기타   74312.98   34419.62        60            -         -\n",
       "4      5    건물기타  205884.00  150000.00         -         2557      1000\n",
       "..   ...     ...        ...        ...       ...          ...       ...\n",
       "95    96  호텔및리조트   93314.00   60500.00         -            -         -\n",
       "96    97  호텔및리조트   55144.67   25880.00         -            -         -\n",
       "97    98  호텔및리조트   53578.62   17373.75         -            -         -\n",
       "98    99  호텔및리조트   53499.00   40636.00         -            -         -\n",
       "99   100  호텔및리조트   57497.84   40035.23         -            -         -\n",
       "\n",
       "[100 rows x 7 columns]"
      ]
     },
     "execution_count": 24,
     "metadata": {},
     "output_type": "execute_result"
    }
   ],
   "source": [
    "building_df"
   ]
  },
  {
   "cell_type": "code",
   "execution_count": 25,
   "id": "d7474993",
   "metadata": {},
   "outputs": [],
   "source": [
    "train_df=train_df.drop(['일조(hr)','일사(MJ/m2)'],axis=1)"
   ]
  },
  {
   "cell_type": "code",
   "execution_count": 26,
   "id": "1e80c922",
   "metadata": {},
   "outputs": [],
   "source": [
    "# (num_date_time, 일시) column 제거하기 위해 month / day / time(시간)으로 전처리\n",
    "\n",
    "train_df['month']=train_df['일시'].apply(lambda x:float(x[4:6]))\n",
    "train_df['day']=train_df['일시'].apply(lambda x:float(x[6:8]))\n",
    "train_df['time']=train_df['일시'].apply(lambda x:float(x[9:11]))\n",
    "\n",
    "test_df['month']=test_df['일시'].apply(lambda x:float(x[4:6]))\n",
    "test_df['day']=test_df['일시'].apply(lambda x:float(x[6:8]))\n",
    "test_df['time']=test_df['일시'].apply(lambda x:float(x[9:11]))\n",
    "\n",
    "# train_df=train_df.drop(['일시'],axis=1)\n",
    "# test_df=test_df.drop(['일시'],axis=1)\n",
    "\n",
    "# datetime 사용하면 쉽게 변환 가능"
   ]
  },
  {
   "cell_type": "code",
   "execution_count": 27,
   "id": "0643a515",
   "metadata": {},
   "outputs": [],
   "source": [
    "test_df['습도(%)']=test_df['습도(%)'].astype('float64')"
   ]
  },
  {
   "cell_type": "code",
   "execution_count": 28,
   "id": "671cc812",
   "metadata": {},
   "outputs": [],
   "source": [
    "train_df=pd.merge(train_df,building_df,on='건물번호',how='left')\n",
    "test_df=pd.merge(test_df,building_df,on='건물번호',how='left')\n",
    "\n",
    "train_df=train_df.drop(['태양광용량(kW)','ESS저장용량(kWh)','PCS용량(kW)'],axis=1)\n",
    "test_df=test_df.drop(['태양광용량(kW)','ESS저장용량(kWh)','PCS용량(kW)'],axis=1)\n",
    "\n",
    "train_df=train_df.drop(['건물유형'],axis=1)\n",
    "test_df=test_df.drop(['건물유형'],axis=1)  # merge후 겹치는 건물 유형 컬럼 제거"
   ]
  },
  {
   "cell_type": "code",
   "execution_count": null,
   "id": "3f41d5d6",
   "metadata": {},
   "outputs": [],
   "source": [
    "# 불쾌지수 -> [1.8x기온–0.55x(1–습도)x(1.8x기온–26)+32] \n",
    "\n",
    "# 새로운 피처(불쾌지수) 생성"
   ]
  },
  {
   "cell_type": "code",
   "execution_count": 30,
   "id": "8c486799",
   "metadata": {},
   "outputs": [],
   "source": [
    "train_df = train_df[train_df.columns[:3].to_list() + train_df.columns[8:].to_list() + train_df.columns[3:8].to_list()]\n",
    "test_df = test_df[test_df.columns[:3].to_list() + test_df.columns[7:].to_list() + test_df.columns[3:7].to_list()]"
   ]
  },
  {
   "cell_type": "code",
   "execution_count": 31,
   "id": "d699d686",
   "metadata": {},
   "outputs": [
    {
     "data": {
      "text/html": [
       "<div>\n",
       "<style scoped>\n",
       "    .dataframe tbody tr th:only-of-type {\n",
       "        vertical-align: middle;\n",
       "    }\n",
       "\n",
       "    .dataframe tbody tr th {\n",
       "        vertical-align: top;\n",
       "    }\n",
       "\n",
       "    .dataframe thead th {\n",
       "        text-align: right;\n",
       "    }\n",
       "</style>\n",
       "<table border=\"1\" class=\"dataframe\">\n",
       "  <thead>\n",
       "    <tr style=\"text-align: right;\">\n",
       "      <th></th>\n",
       "      <th>num_date_time</th>\n",
       "      <th>건물번호</th>\n",
       "      <th>일시</th>\n",
       "      <th>month</th>\n",
       "      <th>day</th>\n",
       "      <th>time</th>\n",
       "      <th>연면적(m2)</th>\n",
       "      <th>냉방면적(m2)</th>\n",
       "      <th>기온(C)</th>\n",
       "      <th>강수량(mm)</th>\n",
       "      <th>풍속(m/s)</th>\n",
       "      <th>습도(%)</th>\n",
       "      <th>전력소비량(kWh)</th>\n",
       "    </tr>\n",
       "  </thead>\n",
       "  <tbody>\n",
       "    <tr>\n",
       "      <th>0</th>\n",
       "      <td>1_20220601 00</td>\n",
       "      <td>1</td>\n",
       "      <td>20220601 00</td>\n",
       "      <td>6.0</td>\n",
       "      <td>1.0</td>\n",
       "      <td>0.0</td>\n",
       "      <td>110634.00</td>\n",
       "      <td>39570.00</td>\n",
       "      <td>18.6</td>\n",
       "      <td>0.0</td>\n",
       "      <td>0.9</td>\n",
       "      <td>42.0</td>\n",
       "      <td>1085.28</td>\n",
       "    </tr>\n",
       "    <tr>\n",
       "      <th>1</th>\n",
       "      <td>1_20220601 01</td>\n",
       "      <td>1</td>\n",
       "      <td>20220601 01</td>\n",
       "      <td>6.0</td>\n",
       "      <td>1.0</td>\n",
       "      <td>1.0</td>\n",
       "      <td>110634.00</td>\n",
       "      <td>39570.00</td>\n",
       "      <td>18.0</td>\n",
       "      <td>0.0</td>\n",
       "      <td>1.1</td>\n",
       "      <td>45.0</td>\n",
       "      <td>1047.36</td>\n",
       "    </tr>\n",
       "    <tr>\n",
       "      <th>2</th>\n",
       "      <td>1_20220601 02</td>\n",
       "      <td>1</td>\n",
       "      <td>20220601 02</td>\n",
       "      <td>6.0</td>\n",
       "      <td>1.0</td>\n",
       "      <td>2.0</td>\n",
       "      <td>110634.00</td>\n",
       "      <td>39570.00</td>\n",
       "      <td>17.7</td>\n",
       "      <td>0.0</td>\n",
       "      <td>1.5</td>\n",
       "      <td>45.0</td>\n",
       "      <td>974.88</td>\n",
       "    </tr>\n",
       "    <tr>\n",
       "      <th>3</th>\n",
       "      <td>1_20220601 03</td>\n",
       "      <td>1</td>\n",
       "      <td>20220601 03</td>\n",
       "      <td>6.0</td>\n",
       "      <td>1.0</td>\n",
       "      <td>3.0</td>\n",
       "      <td>110634.00</td>\n",
       "      <td>39570.00</td>\n",
       "      <td>16.7</td>\n",
       "      <td>0.0</td>\n",
       "      <td>1.4</td>\n",
       "      <td>48.0</td>\n",
       "      <td>953.76</td>\n",
       "    </tr>\n",
       "    <tr>\n",
       "      <th>4</th>\n",
       "      <td>1_20220601 04</td>\n",
       "      <td>1</td>\n",
       "      <td>20220601 04</td>\n",
       "      <td>6.0</td>\n",
       "      <td>1.0</td>\n",
       "      <td>4.0</td>\n",
       "      <td>110634.00</td>\n",
       "      <td>39570.00</td>\n",
       "      <td>18.4</td>\n",
       "      <td>0.0</td>\n",
       "      <td>2.8</td>\n",
       "      <td>43.0</td>\n",
       "      <td>986.40</td>\n",
       "    </tr>\n",
       "    <tr>\n",
       "      <th>...</th>\n",
       "      <td>...</td>\n",
       "      <td>...</td>\n",
       "      <td>...</td>\n",
       "      <td>...</td>\n",
       "      <td>...</td>\n",
       "      <td>...</td>\n",
       "      <td>...</td>\n",
       "      <td>...</td>\n",
       "      <td>...</td>\n",
       "      <td>...</td>\n",
       "      <td>...</td>\n",
       "      <td>...</td>\n",
       "      <td>...</td>\n",
       "    </tr>\n",
       "    <tr>\n",
       "      <th>203995</th>\n",
       "      <td>100_20220824 19</td>\n",
       "      <td>100</td>\n",
       "      <td>20220824 19</td>\n",
       "      <td>8.0</td>\n",
       "      <td>24.0</td>\n",
       "      <td>19.0</td>\n",
       "      <td>57497.84</td>\n",
       "      <td>40035.23</td>\n",
       "      <td>23.1</td>\n",
       "      <td>0.0</td>\n",
       "      <td>0.9</td>\n",
       "      <td>86.0</td>\n",
       "      <td>881.04</td>\n",
       "    </tr>\n",
       "    <tr>\n",
       "      <th>203996</th>\n",
       "      <td>100_20220824 20</td>\n",
       "      <td>100</td>\n",
       "      <td>20220824 20</td>\n",
       "      <td>8.0</td>\n",
       "      <td>24.0</td>\n",
       "      <td>20.0</td>\n",
       "      <td>57497.84</td>\n",
       "      <td>40035.23</td>\n",
       "      <td>22.4</td>\n",
       "      <td>0.0</td>\n",
       "      <td>1.3</td>\n",
       "      <td>86.0</td>\n",
       "      <td>798.96</td>\n",
       "    </tr>\n",
       "    <tr>\n",
       "      <th>203997</th>\n",
       "      <td>100_20220824 21</td>\n",
       "      <td>100</td>\n",
       "      <td>20220824 21</td>\n",
       "      <td>8.0</td>\n",
       "      <td>24.0</td>\n",
       "      <td>21.0</td>\n",
       "      <td>57497.84</td>\n",
       "      <td>40035.23</td>\n",
       "      <td>21.3</td>\n",
       "      <td>0.0</td>\n",
       "      <td>1.0</td>\n",
       "      <td>92.0</td>\n",
       "      <td>825.12</td>\n",
       "    </tr>\n",
       "    <tr>\n",
       "      <th>203998</th>\n",
       "      <td>100_20220824 22</td>\n",
       "      <td>100</td>\n",
       "      <td>20220824 22</td>\n",
       "      <td>8.0</td>\n",
       "      <td>24.0</td>\n",
       "      <td>22.0</td>\n",
       "      <td>57497.84</td>\n",
       "      <td>40035.23</td>\n",
       "      <td>21.0</td>\n",
       "      <td>0.0</td>\n",
       "      <td>0.3</td>\n",
       "      <td>94.0</td>\n",
       "      <td>640.08</td>\n",
       "    </tr>\n",
       "    <tr>\n",
       "      <th>203999</th>\n",
       "      <td>100_20220824 23</td>\n",
       "      <td>100</td>\n",
       "      <td>20220824 23</td>\n",
       "      <td>8.0</td>\n",
       "      <td>24.0</td>\n",
       "      <td>23.0</td>\n",
       "      <td>57497.84</td>\n",
       "      <td>40035.23</td>\n",
       "      <td>20.7</td>\n",
       "      <td>0.0</td>\n",
       "      <td>0.1</td>\n",
       "      <td>95.0</td>\n",
       "      <td>540.24</td>\n",
       "    </tr>\n",
       "  </tbody>\n",
       "</table>\n",
       "<p>204000 rows × 13 columns</p>\n",
       "</div>"
      ],
      "text/plain": [
       "          num_date_time  건물번호           일시  month   day  time    연면적(m2)  \\\n",
       "0         1_20220601 00     1  20220601 00    6.0   1.0   0.0  110634.00   \n",
       "1         1_20220601 01     1  20220601 01    6.0   1.0   1.0  110634.00   \n",
       "2         1_20220601 02     1  20220601 02    6.0   1.0   2.0  110634.00   \n",
       "3         1_20220601 03     1  20220601 03    6.0   1.0   3.0  110634.00   \n",
       "4         1_20220601 04     1  20220601 04    6.0   1.0   4.0  110634.00   \n",
       "...                 ...   ...          ...    ...   ...   ...        ...   \n",
       "203995  100_20220824 19   100  20220824 19    8.0  24.0  19.0   57497.84   \n",
       "203996  100_20220824 20   100  20220824 20    8.0  24.0  20.0   57497.84   \n",
       "203997  100_20220824 21   100  20220824 21    8.0  24.0  21.0   57497.84   \n",
       "203998  100_20220824 22   100  20220824 22    8.0  24.0  22.0   57497.84   \n",
       "203999  100_20220824 23   100  20220824 23    8.0  24.0  23.0   57497.84   \n",
       "\n",
       "        냉방면적(m2)  기온(C)  강수량(mm)  풍속(m/s)  습도(%)  전력소비량(kWh)  \n",
       "0       39570.00   18.6      0.0      0.9   42.0     1085.28  \n",
       "1       39570.00   18.0      0.0      1.1   45.0     1047.36  \n",
       "2       39570.00   17.7      0.0      1.5   45.0      974.88  \n",
       "3       39570.00   16.7      0.0      1.4   48.0      953.76  \n",
       "4       39570.00   18.4      0.0      2.8   43.0      986.40  \n",
       "...          ...    ...      ...      ...    ...         ...  \n",
       "203995  40035.23   23.1      0.0      0.9   86.0      881.04  \n",
       "203996  40035.23   22.4      0.0      1.3   86.0      798.96  \n",
       "203997  40035.23   21.3      0.0      1.0   92.0      825.12  \n",
       "203998  40035.23   21.0      0.0      0.3   94.0      640.08  \n",
       "203999  40035.23   20.7      0.0      0.1   95.0      540.24  \n",
       "\n",
       "[204000 rows x 13 columns]"
      ]
     },
     "execution_count": 31,
     "metadata": {},
     "output_type": "execute_result"
    }
   ],
   "source": [
    "train_df"
   ]
  },
  {
   "cell_type": "code",
   "execution_count": 132,
   "id": "b7f6425d",
   "metadata": {},
   "outputs": [],
   "source": [
    "# 하이퍼파라미터\n",
    "\n",
    "input_size = 10  # feature의 개수\n",
    "hidden_size = 64\n",
    "num_layers = 3\n",
    "output_size = 1\n",
    "num_epochs = 5  \n",
    "window_size = 24  # 예측에 사용될 시간 윈도우 크기  (하루 시간 단위)\n",
    "batch_size = 64  # 가중치를 한 번 업데이트 할 횟수의 기준 (64개 학습 후 1번 가중치 갱신)\n",
    "learning_rate = 0.001"
   ]
  },
  {
   "cell_type": "markdown",
   "id": "59814ff4",
   "metadata": {},
   "source": [
    "## Dataset"
   ]
  },
  {
   "cell_type": "code",
   "execution_count": 133,
   "id": "8a566146",
   "metadata": {},
   "outputs": [],
   "source": [
    "class TimeSeriesDataset(Dataset):\n",
    "   \n",
    "    def __init__(self, df, window_size):  # 생성자 / 데이터를 전처리 하는 부분, 필요한 변수 선언\n",
    "        self.df = df\n",
    "        self.window_size = window_size\n",
    "        \n",
    "    def __len__(self):   # 학습 데이터의 개수를 반환하는 메소드\n",
    "        return len(self.df) - self.window_size\n",
    "    \n",
    "    def __getitem__(self,idx):   # idx에 해당하는 데이터를 반환하는 메소드  / tensor를 return해야 하는 코드 부분\n",
    "        x = torch.tensor(self.df[idx:idx+self.window_size, :], dtype = torch.float)\n",
    "        if self.df.shape[1] > 1:\n",
    "            y = torch.tensor(self.df[idx+self.window_size, -1] ,dtype = torch.float)\n",
    "        else:\n",
    "            y = None\n",
    "        return x, y\n",
    "    \n",
    "def create_data_loader(df, window_size, batch_size):\n",
    "    dataset = TimeSeriesDataset(df, window_size)\n",
    "    data_loader = DataLoader(dataset, batch_size = batch_size, shuffle=False)  # shuffle은 데이터가 학습되는 순서를 섞는 기능\n",
    "                                                                                # DataLoader는 mini-batch 만들어주는 역할\n",
    "    return data_loader"
   ]
  },
  {
   "cell_type": "code",
   "execution_count": 134,
   "id": "c44fb0b4",
   "metadata": {},
   "outputs": [],
   "source": [
    "scaler=MinMaxScaler()\n",
    "train_data = scaler.fit_transform(train_df.drop(['num_date_time', '건물번호', '일시'], axis=1).values)\n",
    "train_loader=create_data_loader(train_data, window_size, batch_size)\n",
    "\n",
    "# 최소 0, 최대 1 값으로 정규화 하는 역할로, outlier에 민감한 특징이 있음"
   ]
  },
  {
   "cell_type": "markdown",
   "id": "3a58d3f7",
   "metadata": {},
   "source": [
    "## model define"
   ]
  },
  {
   "cell_type": "code",
   "execution_count": 61,
   "id": "7686fde3",
   "metadata": {},
   "outputs": [],
   "source": [
    "class LSTM(nn.Module):\n",
    "    \n",
    "    def __init__(self, input_size, hidden_size, num_layers, output_size):\n",
    "        super(LSTM, self).__init__()  # 부모 클래스의 생성자를 불러주는 기능  super().__init__()\n",
    "        \n",
    "        self.hidden_size=hidden_size\n",
    "        self.num_layers=num_layers\n",
    "        \n",
    "        self.lstm = nn.LSTM(input_size, hidden_size, num_layers, batch_first=True)\n",
    "        self.fc = nn.Linear(hidden_size, output_size)\n",
    "        \n",
    "    def forward(self,x):\n",
    "        h0=torch.zeros(self.num_layers, x.size(0), self.hidden_size).to(x.device)\n",
    "        c0=torch.zeros(self.num_layers, x.size(0), self.hidden_size).to(x.device)\n",
    "        \n",
    "        out, _ =self.lstm(x, (h0, c0))\n",
    "        out = self.fc(out[:, -1, :])\n",
    "        \n",
    "        return out"
   ]
  },
  {
   "cell_type": "code",
   "execution_count": 62,
   "id": "8ac68119",
   "metadata": {},
   "outputs": [
    {
     "name": "stdout",
     "output_type": "stream",
     "text": [
      "current device {device(type='cpu')}\n"
     ]
    }
   ],
   "source": [
    "device = torch.device('cuda' if torch.cuda.is_available() else 'cpu')\n",
    "print(f'current device',{device})\n",
    "\n",
    "model=LSTM(input_size, hidden_size, num_layers, output_size).to(device)\n",
    "\n",
    "criterion = nn.MSELoss()\n",
    "optimizer = torch.optim.Adam(model.parameters(), lr=learning_rate)"
   ]
  },
  {
   "cell_type": "markdown",
   "id": "a73b4eb7",
   "metadata": {},
   "source": [
    "## 훈련"
   ]
  },
  {
   "cell_type": "code",
   "execution_count": 137,
   "id": "b99bd911",
   "metadata": {},
   "outputs": [],
   "source": [
    "# hyper_param={\n",
    "#     'input_size' : [10],  # feature의 개수\n",
    "#     'hidden_size' : [64,128],\n",
    "#     'num_layers' : [3], \n",
    "#     'output_size' : [1],\n",
    "#     'num_epochs' : [5,6,7,8],  \n",
    "#     'window_size' : [24],  # 예측에 사용될 시간 윈도우 크기  (하루 시간 단위)\n",
    "#     'batch_size' : [32,64],  # 가중치를 한 번 업데이트 할 횟수의 기준 (64개 학습 후 1번 가중치 갱신)\n",
    "#     'learning_rate' : [0.001,0.0001]\n",
    "# }\n",
    "\n",
    "# 최적의 값을 찾기 위해 다양한 네트워크 구조 조합을 구성할 수도 있다."
   ]
  },
  {
   "cell_type": "code",
   "execution_count": 146,
   "id": "2b986105",
   "metadata": {},
   "outputs": [
    {
     "data": {
      "text/plain": [
       "<torch.utils.data.dataloader.DataLoader at 0x22f75a129a0>"
      ]
     },
     "execution_count": 146,
     "metadata": {},
     "output_type": "execute_result"
    }
   ],
   "source": [
    "train_loader"
   ]
  },
  {
   "cell_type": "code",
   "execution_count": 64,
   "id": "35774145",
   "metadata": {},
   "outputs": [
    {
     "name": "stdout",
     "output_type": "stream",
     "text": [
      "Epoch [1/5], step[300/3188], Loss 0.0004\n",
      "Epoch [1/5], step[600/3188], Loss 0.0004\n",
      "Epoch [1/5], step[900/3188], Loss 0.0002\n",
      "Epoch [1/5], step[1200/3188], Loss 0.0015\n",
      "Epoch [1/5], step[1500/3188], Loss 0.0146\n",
      "Epoch [1/5], step[1800/3188], Loss 0.0018\n",
      "Epoch [1/5], step[2100/3188], Loss 0.0000\n",
      "Epoch [1/5], step[2400/3188], Loss 0.0001\n",
      "Epoch [1/5], step[2700/3188], Loss 0.0001\n",
      "Epoch [1/5], step[3000/3188], Loss 0.0022\n",
      "Epoch [2/5], step[300/3188], Loss 0.0007\n",
      "Epoch [2/5], step[600/3188], Loss 0.0003\n",
      "Epoch [2/5], step[900/3188], Loss 0.0002\n",
      "Epoch [2/5], step[1200/3188], Loss 0.0006\n",
      "Epoch [2/5], step[1500/3188], Loss 0.0053\n",
      "Epoch [2/5], step[1800/3188], Loss 0.0005\n",
      "Epoch [2/5], step[2100/3188], Loss 0.0000\n",
      "Epoch [2/5], step[2400/3188], Loss 0.0000\n",
      "Epoch [2/5], step[2700/3188], Loss 0.0001\n",
      "Epoch [2/5], step[3000/3188], Loss 0.0003\n",
      "Epoch [3/5], step[300/3188], Loss 0.0002\n",
      "Epoch [3/5], step[600/3188], Loss 0.0001\n",
      "Epoch [3/5], step[900/3188], Loss 0.0000\n",
      "Epoch [3/5], step[1200/3188], Loss 0.0002\n",
      "Epoch [3/5], step[1500/3188], Loss 0.0009\n",
      "Epoch [3/5], step[1800/3188], Loss 0.0001\n",
      "Epoch [3/5], step[2100/3188], Loss 0.0000\n",
      "Epoch [3/5], step[2400/3188], Loss 0.0000\n",
      "Epoch [3/5], step[2700/3188], Loss 0.0000\n",
      "Epoch [3/5], step[3000/3188], Loss 0.0001\n",
      "Epoch [4/5], step[300/3188], Loss 0.0001\n",
      "Epoch [4/5], step[600/3188], Loss 0.0001\n",
      "Epoch [4/5], step[900/3188], Loss 0.0000\n",
      "Epoch [4/5], step[1200/3188], Loss 0.0002\n",
      "Epoch [4/5], step[1500/3188], Loss 0.0009\n",
      "Epoch [4/5], step[1800/3188], Loss 0.0000\n",
      "Epoch [4/5], step[2100/3188], Loss 0.0000\n",
      "Epoch [4/5], step[2400/3188], Loss 0.0000\n",
      "Epoch [4/5], step[2700/3188], Loss 0.0000\n",
      "Epoch [4/5], step[3000/3188], Loss 0.0001\n",
      "Epoch [5/5], step[300/3188], Loss 0.0001\n",
      "Epoch [5/5], step[600/3188], Loss 0.0001\n",
      "Epoch [5/5], step[900/3188], Loss 0.0000\n",
      "Epoch [5/5], step[1200/3188], Loss 0.0002\n",
      "Epoch [5/5], step[1500/3188], Loss 0.0010\n",
      "Epoch [5/5], step[1800/3188], Loss 0.0000\n",
      "Epoch [5/5], step[2100/3188], Loss 0.0000\n",
      "Epoch [5/5], step[2400/3188], Loss 0.0000\n",
      "Epoch [5/5], step[2700/3188], Loss 0.0000\n",
      "Epoch [5/5], step[3000/3188], Loss 0.0001\n"
     ]
    }
   ],
   "source": [
    "for epoch in range(num_epochs):\n",
    "    for i, (inputs, labels) in enumerate(train_loader):\n",
    "        inputs = inputs.to(device)\n",
    "        labels = labels.unsqueeze(1).to(device)  # unsqueeze는 차원을 생성하는 함수 <-> squeeze\n",
    "        \n",
    "        # Forward\n",
    "        outputs = model(inputs)\n",
    "        loss = criterion(outputs, labels)\n",
    "        \n",
    "        # Backward and Optimize\n",
    "        optimizer.zero_grad() #  gradient를 0으로 만들어주는 역할 (원하는 학습의 방향 때문) (pytorch는 미분값이 누적되는 특성 때문)\n",
    "        loss.backward()\n",
    "        optimizer.step()\n",
    "        \n",
    "        if (i+1) % 300 == 0:\n",
    "            print('Epoch [{}/{}], step[{}/{}], Loss {:.4f}'\n",
    "                 .format(epoch+1, num_epochs, i+1, len(train_loader), loss.item()))\n"
   ]
  },
  {
   "cell_type": "markdown",
   "id": "2e2ea864",
   "metadata": {},
   "source": [
    "## Test_data preprocessing"
   ]
  },
  {
   "cell_type": "code",
   "execution_count": 90,
   "id": "eb8816b3",
   "metadata": {},
   "outputs": [],
   "source": [
    "# 학습 데이터에서 마지막 행 가져오기\n",
    "last_train_data = train_df.drop(['num_date_time', '건물번호', '일시'], axis=1).loc[204000-24:,:]\n",
    "\n",
    "\n",
    "# 전력소비량 열 생성\n",
    "final_df = pd.concat((test_df.drop(['num_date_time', '건물번호', '일시'], axis=1),\n",
    "                      pd.DataFrame(np.zeros(test_df.shape[0]))),axis=1)\n",
    "final_df = final_df.rename({0:'전력소비량(kWh)'},axis=1)"
   ]
  },
  {
   "cell_type": "code",
   "execution_count": 101,
   "id": "4176be44",
   "metadata": {},
   "outputs": [],
   "source": [
    "new_test_df=pd.concat([last_train_data,final_df]).reset_index(drop=True) #index 순서 0부터 시작하기 위해 \n",
    "new_test_data=scaler.transform(new_test_df)"
   ]
  },
  {
   "cell_type": "code",
   "execution_count": 112,
   "id": "180ab707",
   "metadata": {},
   "outputs": [
    {
     "data": {
      "text/plain": [
       "(16824, 10)"
      ]
     },
     "execution_count": 112,
     "metadata": {},
     "output_type": "execute_result"
    }
   ],
   "source": [
    "new_test_data.shape"
   ]
  },
  {
   "cell_type": "code",
   "execution_count": 113,
   "id": "9d48c63c",
   "metadata": {},
   "outputs": [],
   "source": [
    "test_dataset=TimeSeriesDataset(new_test_data,window_size)\n",
    "test_loader=DataLoader(test_dataset, batch_size=1, shuffle=False)\n",
    "\n",
    "# 보통 batch_size는 8,16,32... 256의 2^n 단위로 쓰임"
   ]
  },
  {
   "cell_type": "markdown",
   "id": "70cd26a6",
   "metadata": {},
   "source": [
    "## Inference"
   ]
  },
  {
   "cell_type": "code",
   "execution_count": 114,
   "id": "193f05a8",
   "metadata": {},
   "outputs": [],
   "source": [
    "model.eval()  # train시와 inference시 layer가 다르게 동작하는 것을 방지하기 위함 (ex dropout시)\n",
    "\n",
    "test_preds=[]\n",
    "\n",
    "with torch.no_grad():  # autograd를 끔으로써 메모리, 연산시간 save\n",
    "    for i in range(new_test_data.shape[0] - window_size):\n",
    "        x = torch.Tensor(new_test_data[i:i+window_size, : ]).to(device)\n",
    "        new_x = model(x.view(1,window_size,-1))  # .view -> 원소의 수를 유지하면서 텐서의 크기 변경 (np의 reshape와 동일 기능)\n",
    "        \n",
    "        new_test_data[i+window_size,-1] = new_x\n",
    "        test_preds.append(new_x.detach().cpu().numpy().item())\n",
    "        \n",
    "        \n",
    "#  detach().cpu()  -> GPU 메모리에 올려져있는 텐서를 CPU 메모리로 복사하는 함수\n",
    "#  numpy  -> (여기선 CPU에 올려져있는 텐서에만 적용가능한 함수) numpy로 변환하려면 CPU로 복사해야함"
   ]
  },
  {
   "cell_type": "code",
   "execution_count": 116,
   "id": "889593e7",
   "metadata": {},
   "outputs": [],
   "source": [
    "last_prediction=scaler.inverse_transform(new_test_data)[24:,-1]"
   ]
  },
  {
   "cell_type": "code",
   "execution_count": 118,
   "id": "84b5b788",
   "metadata": {},
   "outputs": [
    {
     "data": {
      "text/plain": [
       "16800"
      ]
     },
     "execution_count": 118,
     "metadata": {},
     "output_type": "execute_result"
    }
   ],
   "source": [
    "len(last_prediction)"
   ]
  },
  {
   "cell_type": "code",
   "execution_count": 121,
   "id": "c3e6d4ac",
   "metadata": {},
   "outputs": [],
   "source": [
    "sample['answer']=last_prediction"
   ]
  },
  {
   "cell_type": "code",
   "execution_count": 124,
   "id": "a83ee397",
   "metadata": {},
   "outputs": [],
   "source": [
    "sample.to_csv('elec_power_5.csv',index=False)"
   ]
  },
  {
   "cell_type": "code",
   "execution_count": null,
   "id": "b2b63715",
   "metadata": {},
   "outputs": [],
   "source": [
    "# class TimeSeriesDataset(df,window_size):\n",
    "    \n",
    "#     def __init__(self,df,window_size):\n",
    "#         self.df=df\n",
    "#         self.window_size=window_size\n",
    "        \n",
    "#     def __len__(self):\n",
    "#         return len(self.df) - window_size\n",
    "    \n",
    "#     def __getitem__(self,idx):\n",
    "#         x=torch.tensor(self.df[idx:idx+window_size, : ],dtype=torch.float)\n",
    "#         if self.df.shape[1] > 1 :\n",
    "#             y=torch.tensor(self.df[idx+window_size, -1],dtype=torch.float)\n",
    "#         else:\n",
    "#             y= None\n",
    "        \n",
    "#         return x,y\n",
    "            "
   ]
  },
  {
   "cell_type": "code",
   "execution_count": null,
   "id": "41efeb8b",
   "metadata": {},
   "outputs": [],
   "source": []
  },
  {
   "cell_type": "code",
   "execution_count": null,
   "id": "590e4830",
   "metadata": {},
   "outputs": [],
   "source": [
    "# name_split = df[\"full_name\"].str.split(\" \")\n",
    "# df[\"first_name\"] = name_split.str.get(0)\n",
    "# df[\"last_name\"] = name_split.str.get(1)\n",
    "\n",
    "# 데이터 값의 공백을 기준으로 분리하고 따로 가져와서 각각 다른 컬럼에 저장 가능"
   ]
  },
  {
   "cell_type": "code",
   "execution_count": 47,
   "id": "d849c09d",
   "metadata": {},
   "outputs": [
    {
     "data": {
      "text/plain": [
       "tensor([[ 1.,  4.,  9.],\n",
       "        [ 4., 10., 18.],\n",
       "        [ 7., 16., 27.]])"
      ]
     },
     "execution_count": 47,
     "metadata": {},
     "output_type": "execute_result"
    }
   ],
   "source": [
    " # 브로드캐스팅 \n",
    "\n",
    "# 브로드 캐스팅이란, 텐서의 크기가 맞지 않을 때 자동으로 크기를 조정 하여 연산을 가능하게 하는 역할\n",
    "# 크기가 다르면 일단 브로드캐스팅 된 후에 연산을 진행\n"
   ]
  }
 ],
 "metadata": {
  "kernelspec": {
   "display_name": "Python 3 (ipykernel)",
   "language": "python",
   "name": "python3"
  },
  "language_info": {
   "codemirror_mode": {
    "name": "ipython",
    "version": 3
   },
   "file_extension": ".py",
   "mimetype": "text/x-python",
   "name": "python",
   "nbconvert_exporter": "python",
   "pygments_lexer": "ipython3",
   "version": "3.8.16"
  }
 },
 "nbformat": 4,
 "nbformat_minor": 5
}
