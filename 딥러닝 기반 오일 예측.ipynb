{
 "cells": [
  {
   "cell_type": "code",
   "execution_count": 1,
   "id": "53b8ef54",
   "metadata": {},
   "outputs": [],
   "source": [
    "import pandas as pd\n",
    "import numpy as np\n",
    "from scipy import sparse\n",
    "\n",
    "import warnings\n",
    "warnings.filterwarnings('ignore')\n",
    "\n",
    "import seaborn as sns\n",
    "import matplotlib.pyplot as plt\n",
    "\n",
    "from sklearn.impute import KNNImputer\n",
    "\n",
    "from tensorflow.keras.models import Sequential\n",
    "from tensorflow.keras.layers import Dense"
   ]
  },
  {
   "cell_type": "code",
   "execution_count": 2,
   "id": "e0d8103b",
   "metadata": {},
   "outputs": [],
   "source": [
    "train=pd.read_csv(r\"C:\\Users\\yjhut\\Downloads\\open (2)\\train.csv\")\n",
    "test=pd.read_csv(r\"C:\\Users\\yjhut\\Downloads\\open (2)\\test.csv\")\n",
    "sub=pd.read_csv(r\"C:\\Users\\yjhut\\Downloads\\open (2)\\sample_submission.csv\")"
   ]
  },
  {
   "cell_type": "code",
   "execution_count": 3,
   "id": "5aaf9e8a",
   "metadata": {},
   "outputs": [],
   "source": [
    "all_data=pd.concat([train,test])\n",
    "all_data=all_data.drop(['ID','Y_LABEL'],axis=1)\n",
    "y=train['Y_LABEL']"
   ]
  },
  {
   "cell_type": "code",
   "execution_count": 4,
   "id": "2cc368ef",
   "metadata": {},
   "outputs": [],
   "source": [
    "cat_feat=['COMPONENT_ARBITRARY','YEAR']"
   ]
  },
  {
   "cell_type": "code",
   "execution_count": 5,
   "id": "24848aa9",
   "metadata": {},
   "outputs": [],
   "source": [
    "from sklearn.preprocessing import LabelEncoder\n",
    "\n",
    "le=LabelEncoder()\n",
    "\n",
    "for col in cat_feat:\n",
    "    all_data[col]=le.fit_transform(all_data[col])"
   ]
  },
  {
   "cell_type": "code",
   "execution_count": 6,
   "id": "7f5ed96a",
   "metadata": {},
   "outputs": [],
   "source": [
    "test_features = ['COMPONENT_ARBITRARY', 'ANONYMOUS_1', 'YEAR' , 'ANONYMOUS_2', \n",
    "                       'AG', 'CO', 'CR', 'CU', 'FE', 'H2O', 'MN', 'MO', 'NI', 'PQINDEX',\n",
    "                       'TI', 'V', 'V40', 'ZN']"
   ]
  },
  {
   "cell_type": "code",
   "execution_count": 7,
   "id": "bcb6354d",
   "metadata": {},
   "outputs": [],
   "source": [
    "import numpy as np\n",
    "\n",
    "for col in all_data.columns:\n",
    "    if (all_data[col].skew() > 1) & (col not in cat_feat):\n",
    "        all_data[col]=np.log1p(all_data[col])"
   ]
  },
  {
   "cell_type": "code",
   "execution_count": 8,
   "id": "b7cea554",
   "metadata": {},
   "outputs": [
    {
     "name": "stdout",
     "output_type": "stream",
     "text": [
      "COMPONENT_ARBITRARY의 왜도: -0.30998471949369155\n",
      "ANONYMOUS_1의 왜도: 0.92806007139913\n",
      "YEAR의 왜도: 0.22174551234215195\n",
      "SAMPLE_TRANSFER_DAY의 왜도: 0.8860209917359103\n",
      "ANONYMOUS_2의 왜도: 1.775394515731257\n",
      "AG의 왜도: 6.626074419442079\n",
      "AL의 왜도: 1.7827536078796387\n",
      "B의 왜도: 0.1689857381245084\n",
      "BA의 왜도: 2.176642043002787\n",
      "BE의 왜도: 23.41246613367368\n",
      "CA의 왜도: 0.3909276364744638\n",
      "CD의 왜도: 11.270203503374255\n",
      "CO의 왜도: 8.683257806447903\n",
      "CR의 왜도: 1.3071754799937771\n",
      "CU의 왜도: 0.7766838377803884\n",
      "FH2O의 왜도: 3.9126019100707707\n",
      "FNOX의 왜도: 0.5920925706811023\n",
      "FOPTIMETHGLY의 왜도: 0.27759232659596755\n",
      "FOXID의 왜도: 0.2772941266786784\n",
      "FSO4의 왜도: 0.9179124087978058\n",
      "FTBN의 왜도: 0.3365223246862715\n",
      "FE의 왜도: 0.30145847401280623\n",
      "FUEL의 왜도: 4.38207803538793\n",
      "H2O의 왜도: 17.423928578426313\n",
      "K의 왜도: 0.8739500260684709\n",
      "LI의 왜도: 5.496954375662121\n",
      "MG의 왜도: 0.9606575673295213\n",
      "MN의 왜도: 1.4046868223786946\n",
      "MO의 왜도: 1.1959468675591507\n",
      "NA의 왜도: 0.6054741752931644\n",
      "NI의 왜도: 2.938737170089025\n",
      "P의 왜도: -0.6225518855899641\n",
      "PB의 왜도: 1.6815114658890873\n",
      "PQINDEX의 왜도: 0.8058731680639973\n",
      "S의 왜도: 0.8065955566610771\n",
      "SB의 왜도: 2.7673850926640307\n",
      "SI의 왜도: 1.2390474382163617\n",
      "SN의 왜도: 2.044310049103984\n",
      "SOOTPERCENTAGE의 왜도: 1.2014347565171033\n",
      "TI의 왜도: 4.765990100133919\n",
      "U100의 왜도: 4.3836679655188195\n",
      "U75의 왜도: 3.017988149468887\n",
      "U50의 왜도: 1.662833151650192\n",
      "U25의 왜도: 0.6553993209032468\n",
      "U20의 왜도: 0.5994045489731487\n",
      "U14의 왜도: 0.41824687139436234\n",
      "U6의 왜도: 0.07977420869760679\n",
      "U4의 왜도: -0.4488455912232512\n",
      "V의 왜도: 8.114628151612393\n",
      "V100의 왜도: 0.8423555837867407\n",
      "V40의 왜도: -0.4643384720955393\n",
      "ZN의 왜도: 0.23620075786601355\n"
     ]
    }
   ],
   "source": [
    "for col in all_data.columns:\n",
    "    print(f'{col}의 왜도: {all_data[col].skew()}')"
   ]
  },
  {
   "cell_type": "code",
   "execution_count": 9,
   "id": "3bb2a210",
   "metadata": {},
   "outputs": [],
   "source": [
    "all_data=all_data[test_features]"
   ]
  },
  {
   "cell_type": "code",
   "execution_count": 272,
   "id": "26dd2dcd",
   "metadata": {},
   "outputs": [
    {
     "name": "stdout",
     "output_type": "stream",
     "text": [
      "COMPONENT_ARBITRARY의 왜도: -0.30998471949369155\n",
      "ANONYMOUS_1의 왜도: 0.92806007139913\n",
      "YEAR의 왜도: 0.22174551234215195\n",
      "ANONYMOUS_2의 왜도: 1.775394515731257\n",
      "AG의 왜도: 6.626074419442079\n",
      "CO의 왜도: 8.683257806447903\n",
      "CR의 왜도: 1.3071754799937771\n",
      "CU의 왜도: 0.7766838377803884\n",
      "FE의 왜도: 0.30145847401280623\n",
      "H2O의 왜도: 17.423928578426313\n",
      "MN의 왜도: 1.4046868223786946\n",
      "MO의 왜도: 1.1959468675591507\n",
      "NI의 왜도: 2.938737170089025\n",
      "PQINDEX의 왜도: 0.8058731680639973\n",
      "TI의 왜도: 4.765990100133919\n",
      "V의 왜도: 8.114628151612393\n",
      "V40의 왜도: -0.4643384720955393\n",
      "ZN의 왜도: 0.23620075786601355\n"
     ]
    }
   ],
   "source": [
    "for col in all_data.columns:\n",
    "    print(f'{col}의 왜도: {all_data[col].skew()}')"
   ]
  },
  {
   "cell_type": "code",
   "execution_count": 323,
   "id": "f1573a4f",
   "metadata": {},
   "outputs": [],
   "source": [
    "model=Sequential()\n",
    "\n",
    "model.add(Dense(15,input_dim=18,activation='relu'))\n",
    "model.add(Dense(20, activation='relu'))\n",
    "model.add(Dense(20, activation='relu'))\n",
    "model.add(Dense(20, activation='relu'))\n",
    "model.add(Dense(1, activation='sigmoid'))\n",
    "\n",
    "\n",
    "# 간단한 신경망 모델 구성"
   ]
  },
  {
   "cell_type": "code",
   "execution_count": 324,
   "id": "7a2e496a",
   "metadata": {},
   "outputs": [],
   "source": [
    "num_tr=len(train)\n",
    "\n",
    "alt_tr=all_data[:num_tr]\n",
    "alt_tt=all_data[num_tr:]"
   ]
  },
  {
   "cell_type": "code",
   "execution_count": 325,
   "id": "1d57bfe2",
   "metadata": {},
   "outputs": [],
   "source": [
    "from sklearn.model_selection import train_test_split\n",
    "X_tr,X_val,y_tr,y_val= train_test_split(alt_tr,y, test_size=0.2, random_state=43, stratify=y)"
   ]
  },
  {
   "cell_type": "code",
   "execution_count": 326,
   "id": "33c86d60",
   "metadata": {},
   "outputs": [],
   "source": [
    "model.compile( optimizer='adam' ,metrics=['binary_accuracy'], loss='binary_crossentropy')"
   ]
  },
  {
   "cell_type": "code",
   "execution_count": 327,
   "id": "c31cbeb3",
   "metadata": {
    "scrolled": true
   },
   "outputs": [
    {
     "name": "stdout",
     "output_type": "stream",
     "text": [
      "Epoch 1/120\n",
      "301/301 [==============================] - 1s 2ms/step - loss: 0.3727 - binary_accuracy: 0.9075 - val_loss: 0.2899 - val_binary_accuracy: 0.9198\n",
      "Epoch 2/120\n",
      "301/301 [==============================] - 0s 1ms/step - loss: 0.3693 - binary_accuracy: 0.9079 - val_loss: 0.2804 - val_binary_accuracy: 0.9198\n",
      "Epoch 3/120\n",
      "301/301 [==============================] - 0s 2ms/step - loss: 0.3344 - binary_accuracy: 0.9088 - val_loss: 0.2794 - val_binary_accuracy: 0.9198\n",
      "Epoch 4/120\n",
      "301/301 [==============================] - 1s 2ms/step - loss: 0.3086 - binary_accuracy: 0.9133 - val_loss: 0.2816 - val_binary_accuracy: 0.9198\n",
      "Epoch 5/120\n",
      "301/301 [==============================] - 0s 2ms/step - loss: 0.3267 - binary_accuracy: 0.9114 - val_loss: 0.3740 - val_binary_accuracy: 0.9198\n",
      "Epoch 6/120\n",
      "301/301 [==============================] - 0s 2ms/step - loss: 0.3160 - binary_accuracy: 0.9134 - val_loss: 0.3043 - val_binary_accuracy: 0.9198\n",
      "Epoch 7/120\n",
      "301/301 [==============================] - 0s 2ms/step - loss: 0.3117 - binary_accuracy: 0.9126 - val_loss: 0.2811 - val_binary_accuracy: 0.9198\n",
      "Epoch 8/120\n",
      "301/301 [==============================] - 0s 2ms/step - loss: 0.3063 - binary_accuracy: 0.9132 - val_loss: 0.2821 - val_binary_accuracy: 0.9198\n",
      "Epoch 9/120\n",
      "301/301 [==============================] - 0s 2ms/step - loss: 0.3103 - binary_accuracy: 0.9134 - val_loss: 0.2806 - val_binary_accuracy: 0.9198\n",
      "Epoch 10/120\n",
      "301/301 [==============================] - 0s 1ms/step - loss: 0.3073 - binary_accuracy: 0.9132 - val_loss: 0.2998 - val_binary_accuracy: 0.9198\n",
      "Epoch 11/120\n",
      "301/301 [==============================] - 0s 1ms/step - loss: 0.3087 - binary_accuracy: 0.9133 - val_loss: 0.2799 - val_binary_accuracy: 0.9198\n",
      "Epoch 12/120\n",
      "301/301 [==============================] - 0s 2ms/step - loss: 0.3051 - binary_accuracy: 0.9134 - val_loss: 0.2814 - val_binary_accuracy: 0.9198\n",
      "Epoch 13/120\n",
      "301/301 [==============================] - 0s 2ms/step - loss: 0.2987 - binary_accuracy: 0.9131 - val_loss: 0.2877 - val_binary_accuracy: 0.9198\n",
      "Epoch 14/120\n",
      "301/301 [==============================] - 0s 1ms/step - loss: 0.2969 - binary_accuracy: 0.9134 - val_loss: 0.2838 - val_binary_accuracy: 0.9198\n",
      "Epoch 15/120\n",
      "301/301 [==============================] - 0s 1ms/step - loss: 0.2965 - binary_accuracy: 0.9134 - val_loss: 0.2829 - val_binary_accuracy: 0.9198\n",
      "Epoch 16/120\n",
      "301/301 [==============================] - 0s 1ms/step - loss: 0.2978 - binary_accuracy: 0.9134 - val_loss: 0.2751 - val_binary_accuracy: 0.9198\n",
      "Epoch 17/120\n",
      "301/301 [==============================] - 0s 1ms/step - loss: 0.2967 - binary_accuracy: 0.9134 - val_loss: 0.2887 - val_binary_accuracy: 0.9198\n",
      "Epoch 18/120\n",
      "301/301 [==============================] - 0s 1ms/step - loss: 0.2956 - binary_accuracy: 0.9134 - val_loss: 0.2755 - val_binary_accuracy: 0.9198\n",
      "Epoch 19/120\n",
      "301/301 [==============================] - 0s 1ms/step - loss: 0.2974 - binary_accuracy: 0.9134 - val_loss: 0.2795 - val_binary_accuracy: 0.9198\n",
      "Epoch 20/120\n",
      "301/301 [==============================] - 0s 1ms/step - loss: 0.2922 - binary_accuracy: 0.9134 - val_loss: 0.2780 - val_binary_accuracy: 0.9198\n",
      "Epoch 21/120\n",
      "301/301 [==============================] - 0s 1ms/step - loss: 0.2934 - binary_accuracy: 0.9134 - val_loss: 0.2788 - val_binary_accuracy: 0.9198\n",
      "Epoch 22/120\n",
      "301/301 [==============================] - 0s 2ms/step - loss: 0.2958 - binary_accuracy: 0.9134 - val_loss: 0.2931 - val_binary_accuracy: 0.9198\n",
      "Epoch 23/120\n",
      "301/301 [==============================] - 0s 1ms/step - loss: 0.2938 - binary_accuracy: 0.9134 - val_loss: 0.2767 - val_binary_accuracy: 0.9198\n",
      "Epoch 24/120\n",
      "301/301 [==============================] - 0s 2ms/step - loss: 0.2907 - binary_accuracy: 0.9134 - val_loss: 0.2823 - val_binary_accuracy: 0.9198\n",
      "Epoch 25/120\n",
      "301/301 [==============================] - 0s 1ms/step - loss: 0.2937 - binary_accuracy: 0.9134 - val_loss: 0.2809 - val_binary_accuracy: 0.9198\n",
      "Epoch 26/120\n",
      "301/301 [==============================] - 0s 1ms/step - loss: 0.2907 - binary_accuracy: 0.9134 - val_loss: 0.2767 - val_binary_accuracy: 0.9198\n",
      "Epoch 27/120\n",
      "301/301 [==============================] - 0s 2ms/step - loss: 0.2918 - binary_accuracy: 0.9134 - val_loss: 0.2785 - val_binary_accuracy: 0.9198\n",
      "Epoch 28/120\n",
      "301/301 [==============================] - 0s 1ms/step - loss: 0.2917 - binary_accuracy: 0.9134 - val_loss: 0.2760 - val_binary_accuracy: 0.9198\n",
      "Epoch 29/120\n",
      "301/301 [==============================] - 0s 1ms/step - loss: 0.2892 - binary_accuracy: 0.9134 - val_loss: 0.2781 - val_binary_accuracy: 0.9198\n",
      "Epoch 30/120\n",
      "301/301 [==============================] - 0s 1ms/step - loss: 0.2909 - binary_accuracy: 0.9134 - val_loss: 0.2845 - val_binary_accuracy: 0.9198\n",
      "Epoch 31/120\n",
      "301/301 [==============================] - 1s 2ms/step - loss: 0.2908 - binary_accuracy: 0.9134 - val_loss: 0.2835 - val_binary_accuracy: 0.9198\n",
      "Epoch 32/120\n",
      "301/301 [==============================] - 0s 2ms/step - loss: 0.2904 - binary_accuracy: 0.9134 - val_loss: 0.2857 - val_binary_accuracy: 0.9198\n",
      "Epoch 33/120\n",
      "301/301 [==============================] - 0s 2ms/step - loss: 0.2911 - binary_accuracy: 0.9134 - val_loss: 0.2752 - val_binary_accuracy: 0.9198\n",
      "Epoch 34/120\n",
      "301/301 [==============================] - 0s 2ms/step - loss: 0.2893 - binary_accuracy: 0.9134 - val_loss: 0.2791 - val_binary_accuracy: 0.9198\n",
      "Epoch 35/120\n",
      "301/301 [==============================] - 0s 2ms/step - loss: 0.2881 - binary_accuracy: 0.9134 - val_loss: 0.2763 - val_binary_accuracy: 0.9198\n",
      "Epoch 36/120\n",
      "301/301 [==============================] - 0s 2ms/step - loss: 0.2896 - binary_accuracy: 0.9134 - val_loss: 0.2806 - val_binary_accuracy: 0.9198\n",
      "Epoch 37/120\n",
      "301/301 [==============================] - 0s 2ms/step - loss: 0.2888 - binary_accuracy: 0.9134 - val_loss: 0.2764 - val_binary_accuracy: 0.9198\n",
      "Epoch 38/120\n",
      "301/301 [==============================] - 0s 2ms/step - loss: 0.2886 - binary_accuracy: 0.9134 - val_loss: 0.2762 - val_binary_accuracy: 0.9198\n",
      "Epoch 39/120\n",
      "301/301 [==============================] - 0s 2ms/step - loss: 0.2895 - binary_accuracy: 0.9135 - val_loss: 0.2933 - val_binary_accuracy: 0.9198\n",
      "Epoch 40/120\n",
      "301/301 [==============================] - 0s 2ms/step - loss: 0.2896 - binary_accuracy: 0.9135 - val_loss: 0.2778 - val_binary_accuracy: 0.9198\n",
      "Epoch 41/120\n",
      "301/301 [==============================] - 0s 2ms/step - loss: 0.2884 - binary_accuracy: 0.9139 - val_loss: 0.2760 - val_binary_accuracy: 0.9198\n",
      "Epoch 42/120\n",
      "301/301 [==============================] - 0s 2ms/step - loss: 0.2886 - binary_accuracy: 0.9140 - val_loss: 0.2799 - val_binary_accuracy: 0.9198\n",
      "Epoch 43/120\n",
      "301/301 [==============================] - 0s 2ms/step - loss: 0.2875 - binary_accuracy: 0.9137 - val_loss: 0.2767 - val_binary_accuracy: 0.9198\n",
      "Epoch 44/120\n",
      "301/301 [==============================] - 1s 2ms/step - loss: 0.2873 - binary_accuracy: 0.9142 - val_loss: 0.2780 - val_binary_accuracy: 0.9198\n",
      "Epoch 45/120\n",
      "301/301 [==============================] - 0s 2ms/step - loss: 0.2867 - binary_accuracy: 0.9145 - val_loss: 0.2762 - val_binary_accuracy: 0.9198\n",
      "Epoch 46/120\n",
      "301/301 [==============================] - 0s 2ms/step - loss: 0.2877 - binary_accuracy: 0.9140 - val_loss: 0.2757 - val_binary_accuracy: 0.9193\n",
      "Epoch 47/120\n",
      "301/301 [==============================] - 0s 2ms/step - loss: 0.2890 - binary_accuracy: 0.9135 - val_loss: 0.2791 - val_binary_accuracy: 0.9193\n",
      "Epoch 48/120\n",
      "301/301 [==============================] - 0s 2ms/step - loss: 0.2869 - binary_accuracy: 0.9142 - val_loss: 0.2762 - val_binary_accuracy: 0.9193\n",
      "Epoch 49/120\n",
      "301/301 [==============================] - 0s 2ms/step - loss: 0.2873 - binary_accuracy: 0.9140 - val_loss: 0.2788 - val_binary_accuracy: 0.9193\n",
      "Epoch 50/120\n",
      "301/301 [==============================] - 0s 2ms/step - loss: 0.2871 - binary_accuracy: 0.9141 - val_loss: 0.2766 - val_binary_accuracy: 0.9193\n",
      "Epoch 51/120\n",
      "301/301 [==============================] - 0s 2ms/step - loss: 0.2871 - binary_accuracy: 0.9145 - val_loss: 0.2767 - val_binary_accuracy: 0.9198\n",
      "Epoch 52/120\n",
      "301/301 [==============================] - 0s 2ms/step - loss: 0.2852 - binary_accuracy: 0.9141 - val_loss: 0.2806 - val_binary_accuracy: 0.9193\n"
     ]
    },
    {
     "name": "stdout",
     "output_type": "stream",
     "text": [
      "Epoch 53/120\n",
      "301/301 [==============================] - 0s 2ms/step - loss: 0.2851 - binary_accuracy: 0.9145 - val_loss: 0.2756 - val_binary_accuracy: 0.9193\n",
      "Epoch 54/120\n",
      "301/301 [==============================] - 0s 2ms/step - loss: 0.2849 - binary_accuracy: 0.9144 - val_loss: 0.2766 - val_binary_accuracy: 0.9193\n",
      "Epoch 55/120\n",
      "301/301 [==============================] - 0s 2ms/step - loss: 0.2861 - binary_accuracy: 0.9142 - val_loss: 0.2784 - val_binary_accuracy: 0.9193\n",
      "Epoch 56/120\n",
      "301/301 [==============================] - 1s 2ms/step - loss: 0.2855 - binary_accuracy: 0.9145 - val_loss: 0.2763 - val_binary_accuracy: 0.9193\n",
      "Epoch 57/120\n",
      "301/301 [==============================] - 0s 2ms/step - loss: 0.2846 - binary_accuracy: 0.9144 - val_loss: 0.2751 - val_binary_accuracy: 0.9193\n",
      "Epoch 58/120\n",
      "301/301 [==============================] - 0s 2ms/step - loss: 0.2842 - binary_accuracy: 0.9143 - val_loss: 0.2739 - val_binary_accuracy: 0.9193\n",
      "Epoch 59/120\n",
      "301/301 [==============================] - 0s 2ms/step - loss: 0.2852 - binary_accuracy: 0.9146 - val_loss: 0.2807 - val_binary_accuracy: 0.9193\n",
      "Epoch 60/120\n",
      "301/301 [==============================] - 0s 2ms/step - loss: 0.2854 - binary_accuracy: 0.9143 - val_loss: 0.2856 - val_binary_accuracy: 0.9198\n",
      "Epoch 61/120\n",
      "301/301 [==============================] - 0s 2ms/step - loss: 0.2849 - binary_accuracy: 0.9145 - val_loss: 0.2779 - val_binary_accuracy: 0.9193\n",
      "Epoch 62/120\n",
      "301/301 [==============================] - 0s 2ms/step - loss: 0.2853 - binary_accuracy: 0.9144 - val_loss: 0.2847 - val_binary_accuracy: 0.9193\n",
      "Epoch 63/120\n",
      "301/301 [==============================] - 0s 2ms/step - loss: 0.2849 - binary_accuracy: 0.9146 - val_loss: 0.2760 - val_binary_accuracy: 0.9198\n",
      "Epoch 64/120\n",
      "301/301 [==============================] - 0s 2ms/step - loss: 0.2834 - binary_accuracy: 0.9147 - val_loss: 0.2765 - val_binary_accuracy: 0.9193\n",
      "Epoch 65/120\n",
      "301/301 [==============================] - 0s 2ms/step - loss: 0.2841 - binary_accuracy: 0.9146 - val_loss: 0.2765 - val_binary_accuracy: 0.9198\n",
      "Epoch 66/120\n",
      "301/301 [==============================] - 0s 2ms/step - loss: 0.2834 - binary_accuracy: 0.9145 - val_loss: 0.2773 - val_binary_accuracy: 0.9193\n",
      "Epoch 67/120\n",
      "301/301 [==============================] - 0s 1ms/step - loss: 0.2846 - binary_accuracy: 0.9144 - val_loss: 0.2783 - val_binary_accuracy: 0.9193\n",
      "Epoch 68/120\n",
      "301/301 [==============================] - 0s 1ms/step - loss: 0.2835 - binary_accuracy: 0.9144 - val_loss: 0.2778 - val_binary_accuracy: 0.9193\n",
      "Epoch 69/120\n",
      "301/301 [==============================] - 0s 1ms/step - loss: 0.2844 - binary_accuracy: 0.9146 - val_loss: 0.2753 - val_binary_accuracy: 0.9198\n",
      "Epoch 70/120\n",
      "301/301 [==============================] - 0s 1ms/step - loss: 0.2828 - binary_accuracy: 0.9145 - val_loss: 0.2788 - val_binary_accuracy: 0.9193\n",
      "Epoch 71/120\n",
      "301/301 [==============================] - 0s 1ms/step - loss: 0.2834 - binary_accuracy: 0.9143 - val_loss: 0.2917 - val_binary_accuracy: 0.9193\n",
      "Epoch 72/120\n",
      "301/301 [==============================] - 0s 2ms/step - loss: 0.2836 - binary_accuracy: 0.9143 - val_loss: 0.2802 - val_binary_accuracy: 0.9189\n",
      "Epoch 73/120\n",
      "301/301 [==============================] - 0s 2ms/step - loss: 0.2832 - binary_accuracy: 0.9143 - val_loss: 0.2793 - val_binary_accuracy: 0.9189\n",
      "Epoch 74/120\n",
      "301/301 [==============================] - 0s 2ms/step - loss: 0.2821 - binary_accuracy: 0.9145 - val_loss: 0.2762 - val_binary_accuracy: 0.9189\n",
      "Epoch 75/120\n",
      "301/301 [==============================] - 1s 2ms/step - loss: 0.2832 - binary_accuracy: 0.9147 - val_loss: 0.2828 - val_binary_accuracy: 0.9193\n",
      "Epoch 76/120\n",
      "301/301 [==============================] - 1s 2ms/step - loss: 0.2831 - binary_accuracy: 0.9142 - val_loss: 0.2778 - val_binary_accuracy: 0.9193\n",
      "Epoch 77/120\n",
      "301/301 [==============================] - 1s 2ms/step - loss: 0.2855 - binary_accuracy: 0.9141 - val_loss: 0.2785 - val_binary_accuracy: 0.9193\n",
      "Epoch 78/120\n",
      "301/301 [==============================] - 1s 2ms/step - loss: 0.2824 - binary_accuracy: 0.9145 - val_loss: 0.2760 - val_binary_accuracy: 0.9193\n",
      "Epoch 79/120\n",
      "301/301 [==============================] - 0s 1ms/step - loss: 0.2839 - binary_accuracy: 0.9151 - val_loss: 0.2762 - val_binary_accuracy: 0.9189\n",
      "Epoch 80/120\n",
      "301/301 [==============================] - 0s 1ms/step - loss: 0.2819 - binary_accuracy: 0.9145 - val_loss: 0.2918 - val_binary_accuracy: 0.9189\n",
      "Epoch 81/120\n",
      "301/301 [==============================] - 0s 1ms/step - loss: 0.2824 - binary_accuracy: 0.9147 - val_loss: 0.2791 - val_binary_accuracy: 0.9193\n",
      "Epoch 82/120\n",
      "301/301 [==============================] - 1s 3ms/step - loss: 0.2826 - binary_accuracy: 0.9145 - val_loss: 0.2775 - val_binary_accuracy: 0.9189\n",
      "Epoch 83/120\n",
      "301/301 [==============================] - 0s 1ms/step - loss: 0.2822 - binary_accuracy: 0.9149 - val_loss: 0.2762 - val_binary_accuracy: 0.9193\n",
      "Epoch 84/120\n",
      "301/301 [==============================] - 0s 1ms/step - loss: 0.2813 - binary_accuracy: 0.9150 - val_loss: 0.2792 - val_binary_accuracy: 0.9193\n",
      "Epoch 85/120\n",
      "301/301 [==============================] - 0s 1ms/step - loss: 0.2806 - binary_accuracy: 0.9146 - val_loss: 0.2777 - val_binary_accuracy: 0.9193\n",
      "Epoch 86/120\n",
      "301/301 [==============================] - 0s 2ms/step - loss: 0.2826 - binary_accuracy: 0.9144 - val_loss: 0.2762 - val_binary_accuracy: 0.9184\n",
      "Epoch 87/120\n",
      "301/301 [==============================] - 0s 2ms/step - loss: 0.2823 - binary_accuracy: 0.9144 - val_loss: 0.2786 - val_binary_accuracy: 0.9193\n",
      "Epoch 88/120\n",
      "301/301 [==============================] - 0s 1ms/step - loss: 0.2818 - binary_accuracy: 0.9147 - val_loss: 0.2807 - val_binary_accuracy: 0.9189\n",
      "Epoch 89/120\n",
      "301/301 [==============================] - 0s 1ms/step - loss: 0.2817 - binary_accuracy: 0.9146 - val_loss: 0.2810 - val_binary_accuracy: 0.9189\n",
      "Epoch 90/120\n",
      "301/301 [==============================] - 0s 1ms/step - loss: 0.2814 - binary_accuracy: 0.9146 - val_loss: 0.2796 - val_binary_accuracy: 0.9189\n",
      "Epoch 91/120\n",
      "301/301 [==============================] - 0s 1ms/step - loss: 0.2815 - binary_accuracy: 0.9146 - val_loss: 0.2823 - val_binary_accuracy: 0.9189\n",
      "Epoch 92/120\n",
      "301/301 [==============================] - 0s 2ms/step - loss: 0.2815 - binary_accuracy: 0.9147 - val_loss: 0.2894 - val_binary_accuracy: 0.9193\n",
      "Epoch 93/120\n",
      "301/301 [==============================] - 0s 2ms/step - loss: 0.2812 - binary_accuracy: 0.9149 - val_loss: 0.2782 - val_binary_accuracy: 0.9193\n",
      "Epoch 94/120\n",
      "301/301 [==============================] - 0s 2ms/step - loss: 0.2818 - binary_accuracy: 0.9146 - val_loss: 0.2848 - val_binary_accuracy: 0.9193\n",
      "Epoch 95/120\n",
      "301/301 [==============================] - 0s 1ms/step - loss: 0.2803 - binary_accuracy: 0.9146 - val_loss: 0.2791 - val_binary_accuracy: 0.9193\n",
      "Epoch 96/120\n",
      "301/301 [==============================] - 0s 1ms/step - loss: 0.2811 - binary_accuracy: 0.9147 - val_loss: 0.2782 - val_binary_accuracy: 0.9189\n",
      "Epoch 97/120\n",
      "301/301 [==============================] - 0s 1ms/step - loss: 0.2812 - binary_accuracy: 0.9150 - val_loss: 0.2814 - val_binary_accuracy: 0.9189\n",
      "Epoch 98/120\n",
      "301/301 [==============================] - 0s 1ms/step - loss: 0.2804 - binary_accuracy: 0.9152 - val_loss: 0.2828 - val_binary_accuracy: 0.9189\n",
      "Epoch 99/120\n",
      "301/301 [==============================] - 0s 1ms/step - loss: 0.2806 - binary_accuracy: 0.9151 - val_loss: 0.2753 - val_binary_accuracy: 0.9189\n",
      "Epoch 100/120\n",
      "301/301 [==============================] - 0s 2ms/step - loss: 0.2814 - binary_accuracy: 0.9144 - val_loss: 0.2762 - val_binary_accuracy: 0.9184\n",
      "Epoch 101/120\n",
      "301/301 [==============================] - 1s 2ms/step - loss: 0.2819 - binary_accuracy: 0.9142 - val_loss: 0.2793 - val_binary_accuracy: 0.9189\n",
      "Epoch 102/120\n",
      "301/301 [==============================] - 0s 2ms/step - loss: 0.2796 - binary_accuracy: 0.9151 - val_loss: 0.2779 - val_binary_accuracy: 0.9189\n",
      "Epoch 103/120\n",
      "301/301 [==============================] - 0s 2ms/step - loss: 0.2799 - binary_accuracy: 0.9152 - val_loss: 0.2787 - val_binary_accuracy: 0.9193\n",
      "Epoch 104/120\n",
      "301/301 [==============================] - 0s 2ms/step - loss: 0.2792 - binary_accuracy: 0.9151 - val_loss: 0.2818 - val_binary_accuracy: 0.9193\n"
     ]
    },
    {
     "name": "stdout",
     "output_type": "stream",
     "text": [
      "Epoch 105/120\n",
      "301/301 [==============================] - 1s 2ms/step - loss: 0.2792 - binary_accuracy: 0.9149 - val_loss: 0.2782 - val_binary_accuracy: 0.9189\n",
      "Epoch 106/120\n",
      "301/301 [==============================] - 0s 2ms/step - loss: 0.2807 - binary_accuracy: 0.9150 - val_loss: 0.2848 - val_binary_accuracy: 0.9189\n",
      "Epoch 107/120\n",
      "301/301 [==============================] - 1s 2ms/step - loss: 0.2803 - binary_accuracy: 0.9140 - val_loss: 0.2780 - val_binary_accuracy: 0.9193\n",
      "Epoch 108/120\n",
      "301/301 [==============================] - 0s 2ms/step - loss: 0.2797 - binary_accuracy: 0.9147 - val_loss: 0.2817 - val_binary_accuracy: 0.9189\n",
      "Epoch 109/120\n",
      "301/301 [==============================] - 0s 2ms/step - loss: 0.2788 - binary_accuracy: 0.9152 - val_loss: 0.2804 - val_binary_accuracy: 0.9193\n",
      "Epoch 110/120\n",
      "301/301 [==============================] - 1s 2ms/step - loss: 0.2797 - binary_accuracy: 0.9144 - val_loss: 0.2848 - val_binary_accuracy: 0.9189\n",
      "Epoch 111/120\n",
      "301/301 [==============================] - 0s 2ms/step - loss: 0.2782 - binary_accuracy: 0.9152 - val_loss: 0.2848 - val_binary_accuracy: 0.9189\n",
      "Epoch 112/120\n",
      "301/301 [==============================] - 0s 2ms/step - loss: 0.2791 - binary_accuracy: 0.9149 - val_loss: 0.2818 - val_binary_accuracy: 0.9189\n",
      "Epoch 113/120\n",
      "301/301 [==============================] - 1s 2ms/step - loss: 0.2808 - binary_accuracy: 0.9146 - val_loss: 0.2843 - val_binary_accuracy: 0.9193\n",
      "Epoch 114/120\n",
      "301/301 [==============================] - 0s 2ms/step - loss: 0.2781 - binary_accuracy: 0.9152 - val_loss: 0.2923 - val_binary_accuracy: 0.9184\n",
      "Epoch 115/120\n",
      "301/301 [==============================] - 0s 2ms/step - loss: 0.2782 - binary_accuracy: 0.9151 - val_loss: 0.2885 - val_binary_accuracy: 0.9193\n",
      "Epoch 116/120\n",
      "301/301 [==============================] - 0s 2ms/step - loss: 0.2788 - binary_accuracy: 0.9153 - val_loss: 0.2881 - val_binary_accuracy: 0.9189\n",
      "Epoch 117/120\n",
      "301/301 [==============================] - 0s 2ms/step - loss: 0.2791 - binary_accuracy: 0.9150 - val_loss: 0.2844 - val_binary_accuracy: 0.9189\n",
      "Epoch 118/120\n",
      "301/301 [==============================] - 0s 2ms/step - loss: 0.2808 - binary_accuracy: 0.9141 - val_loss: 0.2828 - val_binary_accuracy: 0.9193\n",
      "Epoch 119/120\n",
      "301/301 [==============================] - 1s 2ms/step - loss: 0.2797 - binary_accuracy: 0.9146 - val_loss: 0.2853 - val_binary_accuracy: 0.9193\n",
      "Epoch 120/120\n",
      "301/301 [==============================] - 0s 2ms/step - loss: 0.2798 - binary_accuracy: 0.9147 - val_loss: 0.2925 - val_binary_accuracy: 0.9184\n"
     ]
    }
   ],
   "source": [
    "history=model.fit(X_tr,y_tr,epochs=120, batch_size=30, validation_split=0.2)"
   ]
  },
  {
   "cell_type": "code",
   "execution_count": 328,
   "id": "58156123",
   "metadata": {
    "scrolled": true
   },
   "outputs": [
    {
     "name": "stdout",
     "output_type": "stream",
     "text": [
      "89/89 [==============================] - 0s 1ms/step - loss: 0.3059 - binary_accuracy: 0.9127\n",
      "[0.3059101700782776, 0.9127349853515625]\n"
     ]
    }
   ],
   "source": [
    "score=model.evaluate(X_val,y_val)\n",
    "\n",
    "print(score)"
   ]
  },
  {
   "cell_type": "code",
   "execution_count": 329,
   "id": "e2c34124",
   "metadata": {},
   "outputs": [
    {
     "name": "stdout",
     "output_type": "stream",
     "text": [
      "189/189 [==============================] - 0s 884us/step\n"
     ]
    }
   ],
   "source": [
    "pred=model.predict(alt_tt)"
   ]
  },
  {
   "cell_type": "code",
   "execution_count": 330,
   "id": "16d0c40e",
   "metadata": {},
   "outputs": [],
   "source": [
    "sub['Y_LABEL']=pred"
   ]
  },
  {
   "cell_type": "code",
   "execution_count": 322,
   "id": "b415e5eb",
   "metadata": {},
   "outputs": [],
   "source": [
    "sub.to_csv('submission_sample(11242).csv', index=False)"
   ]
  },
  {
   "cell_type": "code",
   "execution_count": 313,
   "id": "29a0c2f4",
   "metadata": {},
   "outputs": [
    {
     "data": {
      "text/plain": [
       "6041"
      ]
     },
     "execution_count": 313,
     "metadata": {},
     "output_type": "execute_result"
    }
   ],
   "source": [
    "len(pred)"
   ]
  },
  {
   "cell_type": "code",
   "execution_count": 331,
   "id": "16017f72",
   "metadata": {},
   "outputs": [],
   "source": [
    "x_len=np.arange(len(pred))"
   ]
  },
  {
   "cell_type": "code",
   "execution_count": 332,
   "id": "cf096344",
   "metadata": {},
   "outputs": [
    {
     "data": {
      "text/plain": [
       "[<matplotlib.lines.Line2D at 0x1b21d305550>]"
      ]
     },
     "execution_count": 332,
     "metadata": {},
     "output_type": "execute_result"
    },
    {
     "data": {
      "image/png": "[encoded data removed]",
      "text/plain": [
       "<Figure size 432x288 with 1 Axes>"
      ]
     },
     "metadata": {
      "needs_background": "light"
     },
     "output_type": "display_data"
    }
   ],
   "source": [
    "plt.plot(x_len, pred, 'o', markersize=2)\n"
   ]
  },
  {
   "cell_type": "code",
   "execution_count": 318,
   "id": "7256565a",
   "metadata": {},
   "outputs": [],
   "source": [
    "threshold= 0.5"
   ]
  },
  {
   "cell_type": "code",
   "execution_count": 319,
   "id": "f9921c8a",
   "metadata": {},
   "outputs": [],
   "source": [
    "sub.loc[sub['Y_LABEL'] > threshold,'Y_LABEL'] = 1\n",
    "sub.loc[sub['Y_LABEL'] <= threshold,'Y_LABEL'] = 0"
   ]
  },
  {
   "cell_type": "code",
   "execution_count": 321,
   "id": "4078683d",
   "metadata": {},
   "outputs": [
    {
     "data": {
      "text/plain": [
       "0.0    6028\n",
       "1.0      13\n",
       "Name: Y_LABEL, dtype: int64"
      ]
     },
     "execution_count": 321,
     "metadata": {},
     "output_type": "execute_result"
    }
   ],
   "source": [
    "sub['Y_LABEL'].value_counts()"
   ]
  },
  {
   "cell_type": "code",
   "execution_count": 287,
   "id": "54d0688b",
   "metadata": {},
   "outputs": [
    {
     "data": {
      "text/plain": [
       "0    12892\n",
       "1     1203\n",
       "Name: Y_LABEL, dtype: int64"
      ]
     },
     "execution_count": 287,
     "metadata": {},
     "output_type": "execute_result"
    }
   ],
   "source": [
    "y.value_counts()"
   ]
  },
  {
   "cell_type": "code",
   "execution_count": 262,
   "id": "5c54818b",
   "metadata": {},
   "outputs": [],
   "source": [
    "hist_df=pd.DataFrame(history.history)"
   ]
  },
  {
   "cell_type": "code",
   "execution_count": 263,
   "id": "59ab7cf8",
   "metadata": {},
   "outputs": [
    {
     "data": {
      "text/html": [
       "<div>\n",
       "<style scoped>\n",
       "    .dataframe tbody tr th:only-of-type {\n",
       "        vertical-align: middle;\n",
       "    }\n",
       "\n",
       "    .dataframe tbody tr th {\n",
       "        vertical-align: top;\n",
       "    }\n",
       "\n",
       "    .dataframe thead th {\n",
       "        text-align: right;\n",
       "    }\n",
       "</style>\n",
       "<table border=\"1\" class=\"dataframe\">\n",
       "  <thead>\n",
       "    <tr style=\"text-align: right;\">\n",
       "      <th></th>\n",
       "      <th>loss</th>\n",
       "      <th>binary_accuracy</th>\n",
       "      <th>val_loss</th>\n",
       "      <th>val_binary_accuracy</th>\n",
       "    </tr>\n",
       "  </thead>\n",
       "  <tbody>\n",
       "    <tr>\n",
       "      <th>0</th>\n",
       "      <td>2.495708</td>\n",
       "      <td>0.815299</td>\n",
       "      <td>0.283971</td>\n",
       "      <td>0.919770</td>\n",
       "    </tr>\n",
       "    <tr>\n",
       "      <th>1</th>\n",
       "      <td>0.305470</td>\n",
       "      <td>0.913415</td>\n",
       "      <td>0.278718</td>\n",
       "      <td>0.919770</td>\n",
       "    </tr>\n",
       "    <tr>\n",
       "      <th>2</th>\n",
       "      <td>0.303953</td>\n",
       "      <td>0.913415</td>\n",
       "      <td>0.288007</td>\n",
       "      <td>0.919770</td>\n",
       "    </tr>\n",
       "    <tr>\n",
       "      <th>3</th>\n",
       "      <td>0.301115</td>\n",
       "      <td>0.913415</td>\n",
       "      <td>0.289774</td>\n",
       "      <td>0.919770</td>\n",
       "    </tr>\n",
       "    <tr>\n",
       "      <th>4</th>\n",
       "      <td>0.303404</td>\n",
       "      <td>0.913415</td>\n",
       "      <td>0.283768</td>\n",
       "      <td>0.919770</td>\n",
       "    </tr>\n",
       "    <tr>\n",
       "      <th>...</th>\n",
       "      <td>...</td>\n",
       "      <td>...</td>\n",
       "      <td>...</td>\n",
       "      <td>...</td>\n",
       "    </tr>\n",
       "    <tr>\n",
       "      <th>595</th>\n",
       "      <td>0.237362</td>\n",
       "      <td>0.925942</td>\n",
       "      <td>0.443725</td>\n",
       "      <td>0.906028</td>\n",
       "    </tr>\n",
       "    <tr>\n",
       "      <th>596</th>\n",
       "      <td>0.232335</td>\n",
       "      <td>0.927051</td>\n",
       "      <td>0.427612</td>\n",
       "      <td>0.910018</td>\n",
       "    </tr>\n",
       "    <tr>\n",
       "      <th>597</th>\n",
       "      <td>0.233261</td>\n",
       "      <td>0.927494</td>\n",
       "      <td>0.449964</td>\n",
       "      <td>0.908245</td>\n",
       "    </tr>\n",
       "    <tr>\n",
       "      <th>598</th>\n",
       "      <td>0.239222</td>\n",
       "      <td>0.926940</td>\n",
       "      <td>0.453066</td>\n",
       "      <td>0.906028</td>\n",
       "    </tr>\n",
       "    <tr>\n",
       "      <th>599</th>\n",
       "      <td>0.239916</td>\n",
       "      <td>0.925055</td>\n",
       "      <td>0.457508</td>\n",
       "      <td>0.911791</td>\n",
       "    </tr>\n",
       "  </tbody>\n",
       "</table>\n",
       "<p>600 rows × 4 columns</p>\n",
       "</div>"
      ],
      "text/plain": [
       "         loss  binary_accuracy  val_loss  val_binary_accuracy\n",
       "0    2.495708         0.815299  0.283971             0.919770\n",
       "1    0.305470         0.913415  0.278718             0.919770\n",
       "2    0.303953         0.913415  0.288007             0.919770\n",
       "3    0.301115         0.913415  0.289774             0.919770\n",
       "4    0.303404         0.913415  0.283768             0.919770\n",
       "..        ...              ...       ...                  ...\n",
       "595  0.237362         0.925942  0.443725             0.906028\n",
       "596  0.232335         0.927051  0.427612             0.910018\n",
       "597  0.233261         0.927494  0.449964             0.908245\n",
       "598  0.239222         0.926940  0.453066             0.906028\n",
       "599  0.239916         0.925055  0.457508             0.911791\n",
       "\n",
       "[600 rows x 4 columns]"
      ]
     },
     "execution_count": 263,
     "metadata": {},
     "output_type": "execute_result"
    }
   ],
   "source": [
    "hist_df"
   ]
  },
  {
   "cell_type": "code",
   "execution_count": 264,
   "id": "f57df965",
   "metadata": {},
   "outputs": [
    {
     "data": {
      "image/png": "[encoded data removed]",
      "text/plain": [
       "<Figure size 432x288 with 1 Axes>"
      ]
     },
     "metadata": {
      "needs_background": "light"
     },
     "output_type": "display_data"
    }
   ],
   "source": [
    "x_len=np.arange(len(hist_df['loss']))\n",
    "y_loss=hist_df['loss']\n",
    "y_vloss=hist_df['val_loss']\n",
    "\n",
    "plt.plot(x_len,y_loss, 'o',markersize=2, label='train')\n",
    "plt.plot(x_len,y_vloss, 'o',markersize=2, label='validation')\n",
    "plt.legend(loc=0)\n",
    "plt.show()"
   ]
  }
 ],
 "metadata": {
  "kernelspec": {
   "display_name": "Python 3 (ipykernel)",
   "language": "python",
   "name": "python3"
  },
  "language_info": {
   "codemirror_mode": {
    "name": "ipython",
    "version": 3
   },
   "file_extension": ".py",
   "mimetype": "text/x-python",
   "name": "python",
   "nbconvert_exporter": "python",
   "pygments_lexer": "ipython3",
   "version": "3.8.16"
  }
 },
 "nbformat": 4,
 "nbformat_minor": 5
}
